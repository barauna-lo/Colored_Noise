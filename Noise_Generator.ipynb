{
  "nbformat": 4,
  "nbformat_minor": 0,
  "metadata": {
    "colab": {
      "name": "Noise Generator.ipynb",
      "provenance": [],
      "authorship_tag": "ABX9TyPUMQViBsKg8ilDllmYWhX/",
      "include_colab_link": true
    },
    "kernelspec": {
      "name": "python3",
      "display_name": "Python 3"
    },
    "language_info": {
      "name": "python"
    }
  },
  "cells": [
    {
      "cell_type": "markdown",
      "metadata": {
        "id": "view-in-github",
        "colab_type": "text"
      },
      "source": [
        "<a href=\"https://colab.research.google.com/github/barauna-lo/Colored_Noise/blob/main/Noise_Generator.ipynb\" target=\"_parent\"><img src=\"https://colab.research.google.com/assets/colab-badge.svg\" alt=\"Open In Colab\"/></a>"
      ]
    },
    {
      "cell_type": "markdown",
      "source": [
        "# Noise Generator"
      ],
      "metadata": {
        "id": "odWNUiH3FOLm"
      }
    },
    {
      "cell_type": "markdown",
      "source": [
        "# 1 Dimensional noise"
      ],
      "metadata": {
        "id": "8W_1s64EFz9Y"
      }
    },
    {
      "cell_type": "code",
      "source": [
        "pip install colorednoise"
      ],
      "metadata": {
        "colab": {
          "base_uri": "https://localhost:8080/"
        },
        "id": "ejR9b2rGFY6W",
        "outputId": "68da7e48-d1a6-4915-9d1c-10772bece5c5"
      },
      "execution_count": 2,
      "outputs": [
        {
          "output_type": "stream",
          "name": "stdout",
          "text": [
            "Looking in indexes: https://pypi.org/simple, https://us-python.pkg.dev/colab-wheels/public/simple/\n",
            "Collecting colorednoise\n",
            "  Downloading colorednoise-2.1.0-py3-none-any.whl (4.5 kB)\n",
            "Requirement already satisfied: numpy>=1.17.0 in /usr/local/lib/python3.7/dist-packages (from colorednoise) (1.21.6)\n",
            "Installing collected packages: colorednoise\n",
            "Successfully installed colorednoise-2.1.0\n"
          ]
        }
      ]
    },
    {
      "cell_type": "code",
      "source": [
        "import colorednoise as cn\n",
        "from matplotlib import mlab\n",
        "from matplotlib import pylab as plt\n",
        "import pandas as pd"
      ],
      "metadata": {
        "id": "NoJk4qovFWfa"
      },
      "execution_count": 13,
      "outputs": []
    },
    {
      "cell_type": "code",
      "execution_count": null,
      "metadata": {
        "id": "yg1FSBccFGtp"
      },
      "outputs": [],
      "source": [
        "#GENERATING THE COLORED NOISE DATA FRAME\n",
        "samples = 2**20\n",
        "# initialize list of lists for diferents betas\n",
        "data = []\n",
        "for i in range(0,13): #the range of beta\n",
        "    for j in range(0,10): \n",
        "        beta = round(i/4,2)                          #alocating diferents values of beta\n",
        "        A = cn.powerlaw_psd_gaussian(beta, samples)  #genereting the amplitude noise\n",
        "        s, f = mlab.psd(A, NFFT=2**13)               #genereting the power spectrum density\n",
        "        data.append([beta,A,f,s])                    #allocating the genereted data in a matrix\n",
        "\n",
        "# Create the pandas DataFrame\n",
        "df = pd.DataFrame(data, columns = ['beta', 'Series','PSD','Frequency'])\n",
        "\n",
        "#Saving data as .plk\n",
        "df.to_pickle('Colored_Noise.plk')\n",
        "\n",
        "#CONVERTING THE DATA FROM THE STRING FORMAT\n",
        "#df['beta'] = df['beta'].map(lambda x: ','.join(map(str, x)))\n",
        "df['Series']    = df['Series'].map(lambda x: ','.join(map(str, x)))\n",
        "df['PSD']       = df['PSD'].map(lambda x: ','.join(map(str, x)))\n",
        "df['Frequency'] = df['Frequency'].map(lambda x: ','.join(map(str, x)))\n",
        "\n",
        "#Saving the data as CSV\n",
        "df.to_csv(\"color.csv\", index=False)"
      ]
    },
    {
      "cell_type": "markdown",
      "source": [
        "## How to read de `.csv` as `str` format"
      ],
      "metadata": {
        "id": "NjCXsmHZJujg"
      }
    },
    {
      "cell_type": "code",
      "source": [
        "df = pd.read_csv(\"color.csv\")\n",
        "\n",
        "#REALOCOTING THE DATA FOR THE FLOAT FORMAT\n",
        "# dfn['beta'] = dfn['beta'].str.split(',').map(lambda x: list(map(float, x)))\n",
        "df['Series']    = df['Series'].str.split(',').map(   lambda x: list(map(float, x)))\n",
        "df['PSD']       = df['PSD'].str.split(',').map(      lambda x: list(map(float, x)))\n",
        "df['Frequency'] = df['Frequency'].str.split(',').map(lambda x: list(map(float, x)))"
      ],
      "metadata": {
        "id": "4EIIFnRkJtaz"
      },
      "execution_count": null,
      "outputs": []
    },
    {
      "cell_type": "code",
      "source": [
        "!wget https://github.com/rsautter/Noisy-Complex-Ginzburg-Landau/blob/main/cNoise.py"
      ],
      "metadata": {
        "colab": {
          "base_uri": "https://localhost:8080/"
        },
        "id": "j78RD7qjGN_g",
        "outputId": "2f78b51a-efc8-4fbc-c60c-1416b9a4bde0"
      },
      "execution_count": 8,
      "outputs": [
        {
          "output_type": "stream",
          "name": "stdout",
          "text": [
            "--2022-08-01 15:53:36--  https://github.com/rsautter/Noisy-Complex-Ginzburg-Landau/blob/main/cNoise.py\n",
            "Resolving github.com (github.com)... 140.82.112.3\n",
            "Connecting to github.com (github.com)|140.82.112.3|:443... connected.\n",
            "HTTP request sent, awaiting response... 200 OK\n",
            "Length: unspecified [text/html]\n",
            "Saving to: ‘cNoise.py’\n",
            "\n",
            "cNoise.py               [  <=>               ] 193.14K   780KB/s    in 0.2s    \n",
            "\n",
            "2022-08-01 15:53:37 (780 KB/s) - ‘cNoise.py’ saved [197774]\n",
            "\n"
          ]
        }
      ]
    },
    {
      "cell_type": "markdown",
      "source": [
        "# 2 Dimensional noise\n",
        "\n",
        "The code bellow can be acessed in \n",
        "https://github.com/barauna-lo/Colored_Noise/blob/main/noise_generator.py"
      ],
      "metadata": {
        "id": "PgaMgNu1Gxdo"
      }
    },
    {
      "cell_type": "code",
      "source": [
        "#For this program run, you need to use cNoise.py code hosted on RubensSauter github\n",
        "#I strongly recomend that you comment line 116 and 127 for the version of 02/2022\n",
        "\n",
        "#%cd Noisy-Complex-Ginzburg-Landau/\n",
        "\n",
        "#import the cNoise function\n",
        "import cNoise as cNoise\n",
        "import numpy as np\n",
        "import pandas as pd\n",
        "from matplotlib.pyplot import figure\n",
        "import matplotlib.pyplot as plt\n",
        "import cv2\n",
        "\n",
        "#%cd ..\n",
        "\n",
        "images_for_classes = 10\n",
        "\n",
        "#Generating several colored noise from `cNoise` mudule\n",
        "#%%capture \n",
        "size = 128\n",
        "noise = []\n",
        "beta  = []\n",
        "for j in range(0,images_for_classes):\n",
        "  for i in range(0,15):\n",
        "    noise.append(cNoise.cNoise(i/4,(size,size),maxCorrections=100,maxAvgError=0.001, eta=0.05))\n",
        "    beta.append(i/4)\n",
        "    print('data_set '+str(j)+' Noise: Beta '+str(i/4))\n",
        "\n",
        "df_data = pd.DataFrame({'image':noise, 'class':beta})\n",
        "df_data.to_pickle('MultipleCNN_Noise.plk')"
      ],
      "metadata": {
        "colab": {
          "base_uri": "https://localhost:8080/",
          "height": 132
        },
        "id": "Z3eevQaRGI0W",
        "outputId": "088c2a66-c33b-45c8-ee6d-16cb5cb6fca9"
      },
      "execution_count": 10,
      "outputs": [
        {
          "output_type": "error",
          "ename": "SyntaxError",
          "evalue": "ignored",
          "traceback": [
            "\u001b[0;36m  File \u001b[0;32m\"/content/cNoise.py\"\u001b[0;36m, line \u001b[0;32m8\u001b[0m\n\u001b[0;31m    <!DOCTYPE html>\u001b[0m\n\u001b[0m    ^\u001b[0m\n\u001b[0;31mSyntaxError\u001b[0m\u001b[0;31m:\u001b[0m invalid syntax\n"
          ]
        }
      ]
    },
    {
      "cell_type": "markdown",
      "source": [
        ""
      ],
      "metadata": {
        "id": "-2LY1zJQFNef"
      }
    }
  ]
}