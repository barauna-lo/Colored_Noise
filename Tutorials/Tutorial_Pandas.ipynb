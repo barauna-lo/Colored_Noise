{
  "nbformat": 4,
  "nbformat_minor": 0,
  "metadata": {
    "colab": {
      "name": "Tutorial Pandas.ipynb",
      "provenance": [],
      "authorship_tag": "ABX9TyOwqVoWhAWKIEH93MjAzu6Q",
      "include_colab_link": true
    },
    "kernelspec": {
      "name": "python3",
      "display_name": "Python 3"
    },
    "language_info": {
      "name": "python"
    }
  },
  "cells": [
    {
      "cell_type": "markdown",
      "metadata": {
        "id": "view-in-github",
        "colab_type": "text"
      },
      "source": [
        "<a href=\"https://colab.research.google.com/github/barauna-lo/Colored_Noise/blob/main/Tutorials/Tutorial_Pandas.ipynb\" target=\"_parent\"><img src=\"https://colab.research.google.com/assets/colab-badge.svg\" alt=\"Open In Colab\"/></a>"
      ]
    },
    {
      "cell_type": "markdown",
      "source": [
        "<img src='https://codefather.tech/wp-content/uploads/2021/04/pandas-standard-deviation.png'>\n",
        "\n",
        "# Tutorial de Pandas \n",
        "\n",
        "Este é um tutorial pessoal para alguns atalhos do pandas. Constantemente me pego tendo que lembrar de alguns comandos que são relativamente básicos no pandas. Porém, estou buscando fluencia nessa biblioteca descidi criar um códido nesse repositório para que possa lembrar desses comandos. "
      ],
      "metadata": {
        "id": "fyxZCKdSDBwV"
      }
    },
    {
      "cell_type": "code",
      "execution_count": null,
      "metadata": {
        "id": "LdZ5gqnCC-oU"
      },
      "outputs": [],
      "source": [
        ""
      ]
    }
  ]
}