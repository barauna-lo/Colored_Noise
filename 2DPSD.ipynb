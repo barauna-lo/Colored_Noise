{
  "nbformat": 4,
  "nbformat_minor": 0,
  "metadata": {
    "colab": {
      "name": "2DPSD.ipynb",
      "private_outputs": true,
      "provenance": [],
      "collapsed_sections": [],
      "include_colab_link": true
    },
    "kernelspec": {
      "name": "python3",
      "display_name": "Python 3"
    },
    "language_info": {
      "name": "python"
    }
  },
  "cells": [
    {
      "cell_type": "markdown",
      "metadata": {
        "id": "view-in-github",
        "colab_type": "text"
      },
      "source": [
        "<a href=\"https://colab.research.google.com/github/barauna-lo/Colored_Noise/blob/main/2DPSD.ipynb\" target=\"_parent\"><img src=\"https://colab.research.google.com/assets/colab-badge.svg\" alt=\"Open In Colab\"/></a>"
      ]
    },
    {
      "cell_type": "markdown",
      "source": [
        "Código para Cálculo do Beta para um ruido 1/f 2D (imagem), R.R.Rosa-INPE-06/4/2022"
      ],
      "metadata": {
        "id": "YNacygYe33k3"
      }
    },
    {
      "cell_type": "code",
      "source": [
        "from sys import setdlopenflags\n",
        "import matplotlib.image as mpimg\n",
        "import numpy as np\n",
        "import scipy.stats as stats\n",
        "import matplotlib.pyplot as pl\n",
        " \n",
        "\n",
        "image = mpimg.imread(\"clouds.png\")\n",
        "pl.imshow(mpimg.imread('clouds.png'),cmap='gray')"
      ],
      "metadata": {
        "id": "91v467Ily2sA"
      },
      "execution_count": null,
      "outputs": []
    },
    {
      "cell_type": "code",
      "execution_count": null,
      "metadata": {
        "id": "wXWrOxyT1ept"
      },
      "outputs": [],
      "source": [
        "#2DFFT\n",
        "npix = image.shape[0]\n",
        "\n",
        "fourier_image = np.fft.fftn(image)\n",
        "fourier_amplitudes = np.abs(fourier_image)**2\n",
        "\n",
        "kfreq = np.fft.fftfreq(npix) * npix\n",
        "kfreq2D = np.meshgrid(kfreq, kfreq)\n",
        "knrm = np.sqrt(kfreq2D[0]**2 + kfreq2D[1]**2)\n",
        "\n",
        "knrm = knrm.flatten()\n",
        "fourier_amplitudes = fourier_amplitudes.flatten()\n",
        "\n",
        "kbins = np.arange(0.5, npix//2+1, 1.)\n",
        "kvals = 0.5 * (kbins[1:] + kbins[:-1])\n",
        "Abins, _, _ = stats.binned_statistic(knrm, fourier_amplitudes,\n",
        "                                     statistic = \"mean\",\n",
        "                                     bins = kbins)\n",
        "Abins *= np.pi * (kbins[1:]**2 - kbins[:-1]**2)\n",
        "\n",
        "pl.loglog(kvals, Abins)\n",
        "pl.xlabel(\"$k$\")\n",
        "pl.ylabel(\"$P(k)$\")\n",
        "\n",
        "x=kvals\n",
        "y=Abins\n",
        "\n",
        "logx = np.log(x)\n",
        "logy = np.log(y)\n",
        "coeffs = np.polyfit(logx,logy,deg=3)\n",
        "poly = np.poly1d(coeffs)\n",
        "\n",
        "yfit = lambda x: np.exp(poly(np.log(x)))\n",
        "pl.loglog(x,yfit(x))\n",
        "\n",
        "#calculo do slope (beta do PSD)\n",
        "slope, intercept = np.polyfit(np.log(x),np.log(yfit(x)),1)\n",
        "pl.title('PSD from 2DFFT with beta= {}'.format(slope))\n",
        "pl.grid(True)\n",
        "\n",
        "pl.show()\n",
        "pl.tight_layout()\n",
        "pl.savefig(\"cloud_power_spectrum.png\", dpi = 300, bbox_inches = \"tight\")"
      ]
    },
    {
      "cell_type": "code",
      "source": [
        "from PIL import Image \n",
        "fname = r'clouds.png'\n",
        "image = Image.open(fname).convert(\"L\") \n",
        "pl.imshow(image, cmap='gray') \n",
        "pl.show()\n",
        "print(slope)"
      ],
      "metadata": {
        "id": "0lWwl1AE0_qQ"
      },
      "execution_count": null,
      "outputs": []
    },
    {
      "cell_type": "code",
      "source": [
        "def getHistogramSlices(mat):\n",
        "    freq = np.fft.fftfreq(mat.shape[0])\n",
        "    p = (freq > 1e-12)\n",
        "    betas= []\n",
        "    for i in range(mat.shape[0]):\n",
        "        psd = np.fft.fft(mat[i])\n",
        "        psd = (psd*np.conj(psd)).real\n",
        "        b,_ = np.polyfit(np.log(freq[p]),np.log(psd[p]),deg=1)\n",
        "        betas.append(-b)\n",
        "\n",
        "    freq = np.fft.fftfreq(mat.shape[1])\n",
        "    for i in range(mat.shape[1]):\n",
        "        psd = np.fft.fft(mat[:,i])\n",
        "        psd = (psd*np.conj(psd)).real\n",
        "        b,_ = np.polyfit(np.log(freq[p]),np.log(psd[p]),deg=1)\n",
        "        betas.append(-b)\n",
        "    return betas"
      ],
      "metadata": {
        "id": "kwkTTlnUUOGo"
      },
      "execution_count": null,
      "outputs": []
    },
    {
      "cell_type": "code",
      "source": [
        "cloudImg = np.array(image.getdata()).reshape(image.size[0], image.size[1])\n",
        "betas = getHistogramSlices(cloudImg) \n",
        "pl.figure()\n",
        "pl.hist(betas,label='avg: '+str(np.round(np.average(betas),3)))\n",
        "pl.xlabel(r\"$\\beta$\",fontsize=14)\n",
        "pl.ylabel('Quantity',fontsize=14)\n",
        "pl.legend()\n",
        "pl.show()"
      ],
      "metadata": {
        "id": "-OmAIt_UUZAS"
      },
      "execution_count": null,
      "outputs": []
    },
    {
      "cell_type": "markdown",
      "source": [
        "# Gerando ruído"
      ],
      "metadata": {
        "id": "qKs9pqBdCweK"
      }
    },
    {
      "cell_type": "code",
      "source": [
        "from numpy.random import normal\n",
        "import numpy as np\n",
        "\n",
        "def cNoise(beta,shape=(1024,),std=0.001, maxCorrections=10,maxAvgError=0.01, eta=0.6):\n",
        "    '''\n",
        "       Wrote by: Rubens Andreas Sautter (2021)\n",
        "       \n",
        "       An parameter of correction has been used (s):\n",
        "       \tFFT(f(w)) = gauss(0,std) * (1/w^beta)^(beta*s/2) \n",
        "       \n",
        "        Frequencies are measured in multidimensional space by the frequency euclidian distance.\n",
        "        \n",
        "       =====================================================================================\n",
        "       beta (float) - the colored noise decay (0-white noise, 1-pink noise, 2- red noise)\n",
        "       shape (tuple) - the output shape\n",
        "       std  (float) standard deviation of the spectrum gaussian function (see reference)\n",
        "       maxCorrections (int) - maximum number of iteractions of the process of decay correction \n",
        "       maxAvgError (float) - target error of the spectrum decay\n",
        "       eta (float) - optimization parameter, large eta can sometimes not reach the minimum\n",
        "       \t\tsmall eta is slower (like the gradient descent eta)\n",
        "       \t\t\n",
        "       \t\t* For beta = [0,2], eta>=0.6 seems to converge\n",
        "       \t\t      beta - 3, eta <= 0.6 seems to converge\n",
        "       \n",
        "       =====================================================================================\n",
        "       Inspired by:\n",
        "      http://articles.adsabs.harvard.edu//full/1995A%26A...300..707T/0000707.000.html\n",
        "    '''\n",
        "    dimension = []\n",
        "    for index,dsize in enumerate(shape):\n",
        "        dimension.append(np.fft.fftfreq(dsize).tolist())\n",
        "    dimension = tuple(dimension)\n",
        "    d = float(len(dimension))\n",
        "    \n",
        "    freqs = np.power(np.sum(np.array(np.meshgrid(*dimension,indexing='ij'))**2,axis=0),1/2)*np.sqrt(2)/4\n",
        "    \n",
        "    #Sampling gaussian with sandard deviation varying according to frequency\n",
        "    ftSample = normal(loc=0,scale=std,size=shape) + 1j*normal(loc=0,scale=std,size=shape)\n",
        "    \n",
        "    # Setting the scale [0,2pi]\n",
        "    freqs = np.pi*freqs\n",
        "    not0Freq = (np.abs(freqs)>1e-15)\n",
        "    positiveFreq = (freqs>1e-15)\n",
        "    \n",
        "    decayCorrectionL = []\n",
        "    errorL = []\n",
        "    \n",
        "    # Building the first spectrum trial\n",
        "    decayCorrection = np.sqrt(2)**(d-1)\n",
        "    scaling = (freqs[not0Freq]+0j)**(-(beta*decayCorrection)/2)\n",
        "    generatedSpectrum = ftSample.copy()\n",
        "    generatedSpectrum[not0Freq] = (ftSample[not0Freq]*scaling)\n",
        "    spsd = np.sum(np.abs(generatedSpectrum))\n",
        "    out = np.fft.ifftn(generatedSpectrum).real\n",
        "    # zero avg\n",
        "    ftSample[0] = 0.0\n",
        "    \n",
        "    # one dimensional noise does not require corrections\n",
        "    if len(dimension)==1:\n",
        "        return out\n",
        "    \n",
        "    #measuring the average beta\n",
        "    betas = []\n",
        "    for i in range(len(out)):\n",
        "        series = out[i,...]\t\n",
        "        # multidimensional slice\n",
        "        if(len(dimension)>2):\n",
        "            for j in range(len(dimension)-2):\n",
        "                series = series[0]\n",
        "        psd = np.fft.fft(series)\n",
        "        psd = np.real(psd*np.conj(psd))\n",
        "        lfreqs = np.fft.fftfreq(len(series))\n",
        "        fPSD = psd[lfreqs>0.0]\n",
        "        fFreqs = lfreqs[lfreqs>0.0]\n",
        "        fit = np.polyfit(np.log(fFreqs),np.log(fPSD),deg=1)\n",
        "        betas.append(-fit[0])\n",
        "    \n",
        "\n",
        "    \t\n",
        "    # measuring the error \n",
        "    smallCorrection = beta-np.average(betas)\n",
        "    \n",
        "    #including in the list\n",
        "    decayCorrectionL.append(decayCorrection)\n",
        "    errorL.append(smallCorrection)\n",
        "    \n",
        "    countCycles = 0\n",
        "    # rebuilding the spectrum\n",
        "    while np.abs(smallCorrection)>maxAvgError:\n",
        "        decayCorrection += smallCorrection*eta\n",
        "        scaling = (freqs[not0Freq]+0j)**(-(beta*decayCorrection)/2)\n",
        "        generatedSpectrum = ftSample.copy()\n",
        "        generatedSpectrum[not0Freq] = (ftSample[not0Freq]*scaling)\n",
        "        spsd = np.sum(np.abs(generatedSpectrum))\n",
        "        out = np.fft.ifftn(generatedSpectrum).real\n",
        "\n",
        "        #measuring the average beta\n",
        "        betas = []\n",
        "        for i in range(len(out)):\n",
        "            series = out[i,...]\n",
        "            # multidimensional slice\n",
        "            if(len(dimension)>2):\n",
        "                for j in range(len(dimension)-2):\n",
        "                    series = series[0]\n",
        "            psd = np.fft.fft(series)\n",
        "            psd = np.real(psd*np.conj(psd))\n",
        "            lfreqs = np.fft.fftfreq(len(series))\n",
        "            fPSD = psd[lfreqs>0.0]\n",
        "            fFreqs = lfreqs[lfreqs>0.0]\n",
        "            fit = np.polyfit(np.log(fFreqs),np.log(fPSD),deg=1)\n",
        "            betas.append(-fit[0])\n",
        "        \t\n",
        "        # measuring the error\n",
        "        smallCorrection = beta-np.average(betas)\n",
        "        \n",
        "        print(\"Noise error - \", smallCorrection)\n",
        "        decayCorrectionL.append(decayCorrection)\n",
        "        errorL.append(smallCorrection)\n",
        "    \t\n",
        "        countCycles = countCycles+1\n",
        "        if countCycles>maxCorrections:\n",
        "            break\n",
        "            \n",
        "    \n",
        "    # resampling with the best decay\n",
        "    errorL = np.abs(errorL)\n",
        "    print(\"Best decay constant:\", decayCorrectionL[np.argmin(errorL)],\" Error: \",errorL[np.argmin(errorL)])\n",
        "    decayCorrection = decayCorrectionL[np.argmin(errorL)]\n",
        "    scaling = (freqs[not0Freq]+0j)**(-(beta*decayCorrection)/2)\n",
        "    generatedSpectrum = ftSample.copy()\n",
        "    generatedSpectrum[not0Freq] = (ftSample[not0Freq]*scaling)\n",
        "    spsd = np.sum(np.abs(generatedSpectrum))\n",
        "    out = np.fft.ifftn(generatedSpectrum).real\n",
        "\n",
        "    # normalizing\n",
        "    out = out / np.max(np.abs(out))\n",
        "    return out"
      ],
      "metadata": {
        "id": "QlftKjX3CpIc"
      },
      "execution_count": null,
      "outputs": []
    },
    {
      "cell_type": "code",
      "source": [
        "size = 1000\n",
        "wn = cNoise(0,(size,size),maxCorrections=100,maxAvgError=0.001, eta=0.05)\n",
        "pn = cNoise(1,(size,size),maxCorrections=100,maxAvgError=0.001, eta=0.05)\n",
        "rn = cNoise(2,(size,size),maxCorrections=100,maxAvgError=0.001, eta=0.05)\n",
        "pl.figure()\n",
        "pl.imshow(wn,cmap='gray')\n",
        "pl.show()"
      ],
      "metadata": {
        "id": "L0Ei7TTPCuq0"
      },
      "execution_count": null,
      "outputs": []
    },
    {
      "cell_type": "code",
      "source": [
        "#2DFFT\n",
        "\n",
        "file_cloud = 'cloud_power_spectrum.png'\n",
        "\n",
        "def fft2DPSD(image,file_name):\n",
        "  npix = image.shape[0]\n",
        "  fourier_image = np.fft.fftn(image)\n",
        "  fourier_amplitudes = np.abs(fourier_image)**2\n",
        "\n",
        "  kfreq = np.fft.fftfreq(npix) * npix\n",
        "  kfreq2D = np.meshgrid(kfreq, kfreq)\n",
        "  knrm = np.sqrt(kfreq2D[0]**2 + kfreq2D[1]**2)\n",
        "\n",
        "  knrm = knrm.flatten()\n",
        "  fourier_amplitudes = fourier_amplitudes.flatten()\n",
        "\n",
        "  kbins = np.arange(0.5, npix//2+1, 1.)\n",
        "  kvals = 0.5 * (kbins[1:] + kbins[:-1])\n",
        "  Abins, _, _ = stats.binned_statistic(knrm, fourier_amplitudes,\n",
        "                                      statistic = \"mean\",\n",
        "                                      bins = kbins)\n",
        "  Abins *= np.pi * (kbins[1:]**2 - kbins[:-1]**2)\n",
        "\n",
        "  #FIGURE\n",
        "\n",
        "  figure(figsize=(3, 3), dpi=100)\n",
        "  pl.loglog(kvals, Abins)\n",
        "  pl.xlabel(\"$k$\")\n",
        "  pl.ylabel(\"$P(k)$\")\n",
        "\n",
        "  x=kvals\n",
        "  y=Abins\n",
        "\n",
        "  logx = np.log(x)\n",
        "  logy = np.log(y)\n",
        "  coeffs = np.polyfit(logx,logy,deg=3)\n",
        "  poly = np.poly1d(coeffs)\n",
        "\n",
        "  yfit = lambda x: np.exp(poly(np.log(x)))\n",
        "  pl.loglog(x,yfit(x))\n",
        "\n",
        "  #calculo do slope (beta do PSD)\n",
        "  slope, intercept = np.polyfit(np.log(x),np.log(yfit(x)),1)\n",
        "  pl.title(f'PSD from 2DFFT with β= {round(slope,3)}',fontsize=10)\n",
        "  pl.grid(True)\n",
        "  pl.ylim(1e5,1e11)\n",
        "  pl.savefig(file_name, dpi = 300, bbox_inches = \"tight\")\n",
        "  pl.show()\n",
        "  pl.tight_layout()\n",
        "  "
      ],
      "metadata": {
        "id": "CtDe888YDQj2"
      },
      "execution_count": null,
      "outputs": []
    },
    {
      "cell_type": "code",
      "source": [
        "\n",
        "imagens = [image,wn,pn,rn]\n",
        "save_has = ['PSD_cloud.png',\n",
        "            'PSD_wn.png',\n",
        "            'PSD_pn.png',\n",
        "            'PSD_rn.png',]\n",
        "for i in range(len(imagens)):\n",
        "  fft2DPSD(imagens[i],save_has[i])"
      ],
      "metadata": {
        "id": "Yfg6VfRwD0ZV"
      },
      "execution_count": null,
      "outputs": []
    },
    {
      "cell_type": "code",
      "source": [
        "color = ['gray','black','magenta','red']\n",
        "his_title = ['Histogram for Cloud','Seeded β = 0','Seed β = 1','Seeded β = 2',]\n",
        "his_save = ['HIST_cl.png','HIST_wn.png','HIST_pn.png','HIST_rn.png',]\n",
        "def hist_plot(image):\n",
        "  cloudImg = image\n",
        "  figure(figsize=(3, 3), dpi=100)\n",
        "  betas = getHistogramSlices(cloudImg) \n",
        "  #pl.figure()\n",
        "  pl.hist(betas,label='avg: '+str(np.round(np.average(betas),3)),color=color[i],bins=30)\n",
        "  pl.title(his_title[i],fontsize=10)\n",
        "  pl.xlabel(r\"$\\beta$\", fontsize=10)\n",
        "  pl.ylabel('Quantity', fontsize=10)\n",
        "  pl.legend()\n",
        "  pl.savefig(his_save[i], dpi = 300, bbox_inches = \"tight\")  \n",
        "  pl.show()"
      ],
      "metadata": {
        "id": "M7SouyDcfWLD"
      },
      "execution_count": null,
      "outputs": []
    },
    {
      "cell_type": "code",
      "source": [
        "for i in range(0,4):\n",
        "  hist_plot(imagens[i])"
      ],
      "metadata": {
        "id": "MROzzeyLfgth"
      },
      "execution_count": null,
      "outputs": []
    },
    {
      "cell_type": "markdown",
      "source": [
        "# Extensão para os 4 casos"
      ],
      "metadata": {
        "id": "3pAHitgRkv5O"
      }
    },
    {
      "cell_type": "code",
      "source": [
        "titulos = ['Cloud','White Noise - β=0','Pink Noise - β=1','Red Noise - β=2']\n",
        "save_fi = ['cloud_noise.png','white_noise.png','pink_noise.png','red_noise.png']\n",
        "\n",
        "\n",
        "for i in range(len(imagens)):\n",
        "  figure(figsize=(3, 3), dpi=100)\n",
        "  #CLOUD\n",
        "  pl.imshow(imagens[i],cmap='gray')\n",
        "  pl.title(titulos[i],fontsize=10)  \n",
        "  pl.axis('off')\n",
        "  pl.savefig(save_fi[i])\n"
      ],
      "metadata": {
        "id": "IMJsM_vzjjS8"
      },
      "execution_count": null,
      "outputs": []
    },
    {
      "cell_type": "code",
      "source": [
        "#Ziping Data for download📦\n",
        "!zip -r /content/All_Files.zip /content"
      ],
      "metadata": {
        "id": "jEUssteuzBR-"
      },
      "execution_count": null,
      "outputs": []
    },
    {
      "cell_type": "code",
      "source": [
        "  #2DFFT\n",
        "\n",
        "image1 = mpimg.imread(\"white.png\")\n",
        "image2 = mpimg.imread(\"pink.png\")\n",
        "image3 = mpimg.imread(\"red.png\")\n",
        "image = mpimg.imread(\"clouds.png\")\n",
        "\n",
        "\n",
        "\n",
        "\n",
        "for i in range(len(imagens)):\n",
        "  npix = imagens[i].shape[0]\n",
        "  fourier_image = np.fft.fftn(imagens[i])\n",
        "  fourier_amplitudes = np.abs(fourier_image)**2\n",
        "\n",
        "  kfreq = np.fft.fftfreq(npix) * npix\n",
        "  kfreq2D = np.meshgrid(kfreq, kfreq)\n",
        "  knrm = np.sqrt(kfreq2D[0]**2 + kfreq2D[1]**2)\n",
        "\n",
        "  knrm = knrm.flatten()\n",
        "  fourier_amplitudes = fourier_amplitudes.flatten()\n",
        "\n",
        "  kbins = np.arange(0.5, npix//2+1, 1.)\n",
        "  kvals = 0.5 * (kbins[1:] + kbins[:-1])\n",
        "  Abins, _, _ = stats.binned_statistic(knrm, fourier_amplitudes,\n",
        "                                      statistic = \"mean\",\n",
        "                                      bins = kbins)\n",
        "  Abins *= np.pi * (kbins[1:]**2 - kbins[:-1]**2)\n",
        "\n",
        "  pl.loglog(kvals, Abins)\n",
        "  pl.xlabel(\"$k$\")\n",
        "  pl.ylabel(\"$P(k)$\")\n",
        "\n",
        "  x=kvals\n",
        "  y=Abins\n",
        "\n",
        "  logx = np.log(x)\n",
        "  logy = np.log(y)\n",
        "  coeffs = np.polyfit(logx,logy,deg=3)\n",
        "  poly = np.poly1d(coeffs)\n",
        "\n",
        "  yfit = lambda x: np.exp(poly(np.log(x)))\n",
        "  pl.loglog(x,yfit(x))\n",
        "\n",
        "  #calculo do slope (beta do PSD)\n",
        "  slope, intercept = np.polyfit(np.log(x),np.log(yfit(x)),1)\n",
        "  pl.title('PSD from 2DFFT with beta= {}'.format(slope))\n",
        "  pl.grid(True)\n",
        "\n",
        "  pl.show()\n",
        "  pl.tight_layout()\n",
        "  pl.savefig(\"cloud_power_spectrum.png\", dpi = 300, bbox_inches = \"tight\")"
      ],
      "metadata": {
        "id": "gyA_7jJA3C71"
      },
      "execution_count": null,
      "outputs": []
    },
    {
      "cell_type": "code",
      "source": [
        "#2DFFT\n",
        "\n",
        "npix = image1.shape[0]\n",
        "\n",
        "fourier_image = np.fft.fftn(image1)\n",
        "fourier_amplitudes = np.abs(fourier_image)**2\n",
        "\n",
        "kfreq = np.fft.fftfreq(npix) * npix\n",
        "kfreq2D = np.meshgrid(kfreq, kfreq)\n",
        "knrm = np.sqrt(kfreq2D[0]**2 + kfreq2D[1]**2)\n",
        "\n",
        "knrm = knrm.flatten()\n",
        "fourier_amplitudes = fourier_amplitudes.flatten()\n",
        "\n",
        "kbins = np.arange(0.5, npix//2+1, 1.)\n",
        "kvals = 0.5 * (kbins[1:] + kbins[:-1])\n",
        "Abins, _, _ = stats.binned_statistic(knrm, fourier_amplitudes,\n",
        "                                     statistic = \"mean\",\n",
        "                                     bins = kbins)\n",
        "Abins *= np.pi * (kbins[1:]**2 - kbins[:-1]**2)\n",
        "\n",
        "pl.loglog(kvals, Abins)\n",
        "pl.xlabel(\"$k$\")\n",
        "pl.ylabel(\"$P(k)$\")\n",
        "\n",
        "x=kvals\n",
        "y=Abins\n",
        "\n",
        "logx = np.log(x)\n",
        "logy = np.log(y)\n",
        "coeffs = np.polyfit(logx,logy,deg=3)\n",
        "poly = np.poly1d(coeffs)\n",
        "\n",
        "yfit = lambda x: np.exp(poly(np.log(x)))\n",
        "pl.loglog(x,yfit(x))\n",
        "\n",
        "#calculo do slope (beta do PSD)\n",
        "slope, intercept = np.polyfit(np.log(x),np.log(yfit(x)),1)\n",
        "pl.title('PSD from 2DFFT with beta= {}'.format(slope))\n",
        "pl.grid(True)\n",
        "\n",
        "pl.show()\n",
        "pl.tight_layout()\n",
        "pl.savefig(\"cloud_power_spectrum.png\", dpi = 300, bbox_inches = \"tight\")"
      ],
      "metadata": {
        "id": "tsRKZbEZ6rAU"
      },
      "execution_count": null,
      "outputs": []
    },
    {
      "cell_type": "code",
      "source": [
        ""
      ],
      "metadata": {
        "id": "JZA3HR5gjO48"
      },
      "execution_count": null,
      "outputs": []
    },
    {
      "cell_type": "code",
      "source": [
        ""
      ],
      "metadata": {
        "id": "iXWFLdjfjO2y"
      },
      "execution_count": null,
      "outputs": []
    },
    {
      "cell_type": "code",
      "source": [
        ""
      ],
      "metadata": {
        "id": "wcNWTjoZjO0y"
      },
      "execution_count": null,
      "outputs": []
    },
    {
      "cell_type": "code",
      "source": [
        ""
      ],
      "metadata": {
        "id": "osiUSbSXjOya"
      },
      "execution_count": null,
      "outputs": []
    },
    {
      "cell_type": "code",
      "source": [
        ""
      ],
      "metadata": {
        "id": "jNXkFyxKjOwU"
      },
      "execution_count": null,
      "outputs": []
    },
    {
      "cell_type": "code",
      "source": [
        ""
      ],
      "metadata": {
        "id": "uVH1Y068jOuQ"
      },
      "execution_count": null,
      "outputs": []
    },
    {
      "cell_type": "code",
      "source": [
        ""
      ],
      "metadata": {
        "id": "1hSomeEMjOsJ"
      },
      "execution_count": null,
      "outputs": []
    },
    {
      "cell_type": "code",
      "source": [
        ""
      ],
      "metadata": {
        "id": "cq0-ujCdjOp8"
      },
      "execution_count": null,
      "outputs": []
    },
    {
      "cell_type": "code",
      "source": [
        ""
      ],
      "metadata": {
        "id": "DWr4cfjnjOoD"
      },
      "execution_count": null,
      "outputs": []
    },
    {
      "cell_type": "code",
      "source": [
        ""
      ],
      "metadata": {
        "id": "xun96C-ljOlr"
      },
      "execution_count": null,
      "outputs": []
    },
    {
      "cell_type": "code",
      "source": [
        ""
      ],
      "metadata": {
        "id": "b_9sHsxLjOjn"
      },
      "execution_count": null,
      "outputs": []
    },
    {
      "cell_type": "code",
      "source": [
        ""
      ],
      "metadata": {
        "id": "hwIe4GBTjOhF"
      },
      "execution_count": null,
      "outputs": []
    },
    {
      "cell_type": "code",
      "source": [
        ""
      ],
      "metadata": {
        "id": "4Ky_2RcCjOfF"
      },
      "execution_count": null,
      "outputs": []
    },
    {
      "cell_type": "code",
      "source": [
        ""
      ],
      "metadata": {
        "id": "-NQw9cPGjOc0"
      },
      "execution_count": null,
      "outputs": []
    },
    {
      "cell_type": "markdown",
      "source": [
        "# 1D Graphs Generate"
      ],
      "metadata": {
        "id": "eawnhMeOTyTQ"
      }
    },
    {
      "cell_type": "code",
      "source": [
        "# !pip install jupyternotify # Install de Jupyter Notify \n",
        "# %load_ext jupyternotify    # Loadgin Jupyter Notify\n",
        "!pip install colorednoise\n",
        "import colorednoise as cn\n",
        "from matplotlib import mlab\n",
        "from matplotlib import pylab as plt\n",
        "import numpy as np\n",
        "import pandas as pd\n",
        "import tensorflow"
      ],
      "metadata": {
        "id": "Qfx2zAgi64ln"
      },
      "execution_count": null,
      "outputs": []
    },
    {
      "cell_type": "code",
      "source": [
        "import colorednoise as cn\n",
        "#from matplotlib import mlab\n",
        "from matplotlib import pylab as plt\n",
        "#import numpy as np\n",
        "\n",
        "#input values\n",
        "beta = 1         # the exponent: 0=white noite; 1=pink noise;  2=red noise (also \"brownian noise\")\n",
        "samples = 2**16  # number of samples to generate (time series extension)\n",
        "\n",
        "#Deffing some colores\n",
        "beta = [0,1,2]\n",
        "colors = ['black','magenta','red']\n",
        "\n",
        "for i in range(len(beta)):\n",
        "  A = cn.powerlaw_psd_gaussian(beta[i], samples)\n",
        "\n",
        "  #Deffing the great figure size\n",
        "  plt.figure(figsize=(6,3),dpi=800)\n",
        "\n",
        "  #Ploting first subfiure\n",
        "  #plt.subplot(1,2,1)\n",
        "  plt.plot(A, color=colors[beta[i]], linewidth=1)\n",
        "  plt.title('Colored Noise for β='+str(beta[i]))\n",
        "  plt.xlabel('Samples (time-steps)')\n",
        "  plt.ylabel('Amplitude(t)', fontsize='large')\n",
        "  plt.xlim(1,32000)\n",
        "\n",
        "  #Ploting second subfigure\n",
        "  # plt.subplot(122)\n",
        "  # spectrum, frequency = mlab.psd(A, NFFT=2**13)\n",
        "  # plt.loglog(frequency,spectrum, color=colors[beta], linewidth=0.8)\n",
        "  # plt.title('Power Spectral Density of A(t) with β='+str(beta))\n",
        "  # plt.xlabel('Frequency')\n",
        "  # plt.ylabel('Power Spectrum Density', fontsize='large')\n",
        "  # plt.grid(True)\n",
        "  plt.savefig(\"color_noide_beta=\"+str(beta[i])+\".png\")\n",
        "\n",
        "#ploting the intire figure\n",
        "plt.show()"
      ],
      "metadata": {
        "id": "zGWgACkbT5O4"
      },
      "execution_count": null,
      "outputs": []
    }
  ]
}