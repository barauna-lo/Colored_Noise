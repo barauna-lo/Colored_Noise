{
  "cells": [
    {
      "cell_type": "markdown",
      "metadata": {
        "id": "view-in-github",
        "colab_type": "text"
      },
      "source": [
        "<a href=\"https://colab.research.google.com/github/barauna-lo/Colored_Noise/blob/main/CNN_for_Noise_class.ipynb\" target=\"_parent\"><img src=\"https://colab.research.google.com/assets/colab-badge.svg\" alt=\"Open In Colab\"/></a>"
      ]
    },
    {
      "cell_type": "markdown",
      "id": "7bb1295e",
      "metadata": {
        "id": "7bb1295e"
      },
      "source": [
        "## Modelo simples de classificação de tipo de ruido em imagens\n",
        "\n",
        "#### Luis Ricardo Arantes Filho\n",
        "#### Luan Bingo\n",
        "\n",
        "Gerador de Ruidos: Rubens Sautter:\n",
        "An parameter of correction has been used (s):\n",
        "FFT(f(w)) = gauss(0,std) * (1/w^beta)^(beta*s/2) \n",
        "Frequencies are measured in multidimensional space by the frequency euclidian distance.\n",
        "\n",
        "Parameter for all noise types\n",
        "size = 128\n",
        "wn = cNoise(0,(size,size),maxCorrections=100,maxAvgError=0.001, eta=0.05)\n",
        "\n",
        "#### Coordenador: Dr. Reinaldo R. Rosa\n",
        "#### National Institute for Space Research"
      ]
    },
    {
      "cell_type": "code",
      "source": [
        "from google.colab import drive\n",
        "drive.mount('/content/drive')"
      ],
      "metadata": {
        "colab": {
          "base_uri": "https://localhost:8080/"
        },
        "id": "1oBQsFeutnC4",
        "outputId": "c245eb70-10a2-478a-86a8-805832d9ff80"
      },
      "id": "1oBQsFeutnC4",
      "execution_count": 1,
      "outputs": [
        {
          "output_type": "stream",
          "name": "stdout",
          "text": [
            "Mounted at /content/drive\n"
          ]
        }
      ]
    },
    {
      "cell_type": "code",
      "source": [
        "#ls\n",
        "%cd drive/MyDrive/INPE/CCN_For_Noise_Classification"
      ],
      "metadata": {
        "colab": {
          "base_uri": "https://localhost:8080/"
        },
        "id": "TpoPmkTNtuHR",
        "outputId": "c0782859-ad60-43ad-f63a-e79c40c24d1a"
      },
      "id": "TpoPmkTNtuHR",
      "execution_count": 2,
      "outputs": [
        {
          "output_type": "stream",
          "name": "stdout",
          "text": [
            "/content/drive/MyDrive/INPE/CCN_For_Noise_Classification\n"
          ]
        }
      ]
    },
    {
      "cell_type": "code",
      "execution_count": 4,
      "id": "07490436",
      "metadata": {
        "id": "07490436"
      },
      "outputs": [],
      "source": [
        "import os\n",
        "import cv2\n",
        "import matplotlib.pyplot as plt\n",
        "import numpy as np\n",
        "import csv\n",
        "import pandas as pd\n",
        "\n",
        "#Dataframes devem conter:\n",
        "    #Imagens Full\n",
        "    #Class\n",
        "\n",
        "\n",
        "#caminho de images\n",
        "path_img_1 = os.getcwd() + '/Noise_images/'\n",
        "\n",
        "#lista de images\n",
        "lista_p1 = os.listdir(path_img_1)\n",
        "lista_p1.sort()\n",
        "\n",
        "# =============================================================================\n",
        "# #reading noise images\n",
        "# =============================================================================\n",
        "list_img = []\n",
        "list_class = []\n",
        "\n",
        "i = 0\n",
        "for i in range(len(lista_p1)):\n",
        "    image = cv2.imread(path_img_1+lista_p1[i])\n",
        "    nome = lista_p1[i].split('.jpg')\n",
        "    nome = nome[0].split('_')\n",
        "    classe_noise = nome[3]\n",
        "#     print(i)\n",
        "#     print(classe_noise)\n",
        "\n",
        "    list_img.append(image)\n",
        "    list_class.append(classe_noise)\n",
        "\n",
        "df_rect_1 = pd.DataFrame({'image_data':list_img, 'class':list_class})"
      ]
    },
    {
      "cell_type": "code",
      "source": [
        "new_df = df_rect_1.sort_values(by='class',axis=1)"
      ],
      "metadata": {
        "id": "Zjj4JcMpV38Q",
        "outputId": "ad60fc91-b257-4793-ba16-fdfc2e4327ed",
        "colab": {
          "base_uri": "https://localhost:8080/",
          "height": 312
        }
      },
      "id": "Zjj4JcMpV38Q",
      "execution_count": 46,
      "outputs": [
        {
          "output_type": "error",
          "ename": "KeyError",
          "evalue": "ignored",
          "traceback": [
            "\u001b[0;31m---------------------------------------------------------------------------\u001b[0m",
            "\u001b[0;31mKeyError\u001b[0m                                  Traceback (most recent call last)",
            "\u001b[0;32m<ipython-input-46-0c8ae7b61af1>\u001b[0m in \u001b[0;36m<module>\u001b[0;34m()\u001b[0m\n\u001b[0;32m----> 1\u001b[0;31m \u001b[0mnew_df\u001b[0m \u001b[0;34m=\u001b[0m \u001b[0mdf_rect_1\u001b[0m\u001b[0;34m.\u001b[0m\u001b[0msort_values\u001b[0m\u001b[0;34m(\u001b[0m\u001b[0mby\u001b[0m\u001b[0;34m=\u001b[0m\u001b[0;34m'class'\u001b[0m\u001b[0;34m,\u001b[0m\u001b[0maxis\u001b[0m\u001b[0;34m=\u001b[0m\u001b[0;36m1\u001b[0m\u001b[0;34m)\u001b[0m\u001b[0;34m\u001b[0m\u001b[0;34m\u001b[0m\u001b[0m\n\u001b[0m",
            "\u001b[0;32m/usr/local/lib/python3.7/dist-packages/pandas/util/_decorators.py\u001b[0m in \u001b[0;36mwrapper\u001b[0;34m(*args, **kwargs)\u001b[0m\n\u001b[1;32m    309\u001b[0m                     \u001b[0mstacklevel\u001b[0m\u001b[0;34m=\u001b[0m\u001b[0mstacklevel\u001b[0m\u001b[0;34m,\u001b[0m\u001b[0;34m\u001b[0m\u001b[0;34m\u001b[0m\u001b[0m\n\u001b[1;32m    310\u001b[0m                 )\n\u001b[0;32m--> 311\u001b[0;31m             \u001b[0;32mreturn\u001b[0m \u001b[0mfunc\u001b[0m\u001b[0;34m(\u001b[0m\u001b[0;34m*\u001b[0m\u001b[0margs\u001b[0m\u001b[0;34m,\u001b[0m \u001b[0;34m**\u001b[0m\u001b[0mkwargs\u001b[0m\u001b[0;34m)\u001b[0m\u001b[0;34m\u001b[0m\u001b[0;34m\u001b[0m\u001b[0m\n\u001b[0m\u001b[1;32m    312\u001b[0m \u001b[0;34m\u001b[0m\u001b[0m\n\u001b[1;32m    313\u001b[0m         \u001b[0;32mreturn\u001b[0m \u001b[0mwrapper\u001b[0m\u001b[0;34m\u001b[0m\u001b[0;34m\u001b[0m\u001b[0m\n",
            "\u001b[0;32m/usr/local/lib/python3.7/dist-packages/pandas/core/frame.py\u001b[0m in \u001b[0;36msort_values\u001b[0;34m(self, by, axis, ascending, inplace, kind, na_position, ignore_index, key)\u001b[0m\n\u001b[1;32m   6257\u001b[0m \u001b[0;34m\u001b[0m\u001b[0m\n\u001b[1;32m   6258\u001b[0m             \u001b[0mby\u001b[0m \u001b[0;34m=\u001b[0m \u001b[0mby\u001b[0m\u001b[0;34m[\u001b[0m\u001b[0;36m0\u001b[0m\u001b[0;34m]\u001b[0m\u001b[0;34m\u001b[0m\u001b[0;34m\u001b[0m\u001b[0m\n\u001b[0;32m-> 6259\u001b[0;31m             \u001b[0mk\u001b[0m \u001b[0;34m=\u001b[0m \u001b[0mself\u001b[0m\u001b[0;34m.\u001b[0m\u001b[0m_get_label_or_level_values\u001b[0m\u001b[0;34m(\u001b[0m\u001b[0mby\u001b[0m\u001b[0;34m,\u001b[0m \u001b[0maxis\u001b[0m\u001b[0;34m=\u001b[0m\u001b[0maxis\u001b[0m\u001b[0;34m)\u001b[0m\u001b[0;34m\u001b[0m\u001b[0;34m\u001b[0m\u001b[0m\n\u001b[0m\u001b[1;32m   6260\u001b[0m \u001b[0;34m\u001b[0m\u001b[0m\n\u001b[1;32m   6261\u001b[0m             \u001b[0;31m# need to rewrap column in Series to apply key function\u001b[0m\u001b[0;34m\u001b[0m\u001b[0;34m\u001b[0m\u001b[0;34m\u001b[0m\u001b[0m\n",
            "\u001b[0;32m/usr/local/lib/python3.7/dist-packages/pandas/core/generic.py\u001b[0m in \u001b[0;36m_get_label_or_level_values\u001b[0;34m(self, key, axis)\u001b[0m\n\u001b[1;32m   1777\u001b[0m             \u001b[0mvalues\u001b[0m \u001b[0;34m=\u001b[0m \u001b[0mself\u001b[0m\u001b[0;34m.\u001b[0m\u001b[0maxes\u001b[0m\u001b[0;34m[\u001b[0m\u001b[0maxis\u001b[0m\u001b[0;34m]\u001b[0m\u001b[0;34m.\u001b[0m\u001b[0mget_level_values\u001b[0m\u001b[0;34m(\u001b[0m\u001b[0mkey\u001b[0m\u001b[0;34m)\u001b[0m\u001b[0;34m.\u001b[0m\u001b[0m_values\u001b[0m\u001b[0;34m\u001b[0m\u001b[0;34m\u001b[0m\u001b[0m\n\u001b[1;32m   1778\u001b[0m         \u001b[0;32melse\u001b[0m\u001b[0;34m:\u001b[0m\u001b[0;34m\u001b[0m\u001b[0;34m\u001b[0m\u001b[0m\n\u001b[0;32m-> 1779\u001b[0;31m             \u001b[0;32mraise\u001b[0m \u001b[0mKeyError\u001b[0m\u001b[0;34m(\u001b[0m\u001b[0mkey\u001b[0m\u001b[0;34m)\u001b[0m\u001b[0;34m\u001b[0m\u001b[0;34m\u001b[0m\u001b[0m\n\u001b[0m\u001b[1;32m   1780\u001b[0m \u001b[0;34m\u001b[0m\u001b[0m\n\u001b[1;32m   1781\u001b[0m         \u001b[0;31m# Check for duplicates\u001b[0m\u001b[0;34m\u001b[0m\u001b[0;34m\u001b[0m\u001b[0;34m\u001b[0m\u001b[0m\n",
            "\u001b[0;31mKeyError\u001b[0m: 'class'"
          ]
        }
      ]
    },
    {
      "cell_type": "code",
      "source": [
        "new_df"
      ],
      "metadata": {
        "id": "wQB6WoapWOEp",
        "outputId": "29cbe01e-2027-465e-9506-3be8c5363aa5",
        "colab": {
          "base_uri": "https://localhost:8080/",
          "height": 424
        }
      },
      "id": "wQB6WoapWOEp",
      "execution_count": 44,
      "outputs": [
        {
          "output_type": "execute_result",
          "data": {
            "text/plain": [
              "                                             image_data class\n",
              "0     [[[154, 154, 154], [148, 148, 148], [138, 138,...    pn\n",
              "1713  [[[138, 138, 138], [129, 129, 129], [127, 127,...    pn\n",
              "852   [[[154, 154, 154], [131, 131, 131], [108, 108,...    pn\n",
              "2427  [[[150, 150, 150], [149, 149, 149], [150, 150,...    pn\n",
              "1716  [[[144, 144, 144], [156, 156, 156], [145, 145,...    pn\n",
              "...                                                 ...   ...\n",
              "1484  [[[216, 216, 216], [198, 198, 198], [162, 162,...    wn\n",
              "1481  [[[71, 71, 71], [69, 69, 69], [104, 104, 104],...    wn\n",
              "1478  [[[142, 142, 142], [138, 138, 138], [168, 168,...    wn\n",
              "1508  [[[169, 169, 169], [160, 160, 160], [169, 169,...    wn\n",
              "2999  [[[47, 47, 47], [59, 59, 59], [107, 107, 107],...    wn\n",
              "\n",
              "[3000 rows x 2 columns]"
            ],
            "text/html": [
              "\n",
              "  <div id=\"df-08ad452f-c134-4bf4-aadc-145bb84d6b99\">\n",
              "    <div class=\"colab-df-container\">\n",
              "      <div>\n",
              "<style scoped>\n",
              "    .dataframe tbody tr th:only-of-type {\n",
              "        vertical-align: middle;\n",
              "    }\n",
              "\n",
              "    .dataframe tbody tr th {\n",
              "        vertical-align: top;\n",
              "    }\n",
              "\n",
              "    .dataframe thead th {\n",
              "        text-align: right;\n",
              "    }\n",
              "</style>\n",
              "<table border=\"1\" class=\"dataframe\">\n",
              "  <thead>\n",
              "    <tr style=\"text-align: right;\">\n",
              "      <th></th>\n",
              "      <th>image_data</th>\n",
              "      <th>class</th>\n",
              "    </tr>\n",
              "  </thead>\n",
              "  <tbody>\n",
              "    <tr>\n",
              "      <th>0</th>\n",
              "      <td>[[[154, 154, 154], [148, 148, 148], [138, 138,...</td>\n",
              "      <td>pn</td>\n",
              "    </tr>\n",
              "    <tr>\n",
              "      <th>1713</th>\n",
              "      <td>[[[138, 138, 138], [129, 129, 129], [127, 127,...</td>\n",
              "      <td>pn</td>\n",
              "    </tr>\n",
              "    <tr>\n",
              "      <th>852</th>\n",
              "      <td>[[[154, 154, 154], [131, 131, 131], [108, 108,...</td>\n",
              "      <td>pn</td>\n",
              "    </tr>\n",
              "    <tr>\n",
              "      <th>2427</th>\n",
              "      <td>[[[150, 150, 150], [149, 149, 149], [150, 150,...</td>\n",
              "      <td>pn</td>\n",
              "    </tr>\n",
              "    <tr>\n",
              "      <th>1716</th>\n",
              "      <td>[[[144, 144, 144], [156, 156, 156], [145, 145,...</td>\n",
              "      <td>pn</td>\n",
              "    </tr>\n",
              "    <tr>\n",
              "      <th>...</th>\n",
              "      <td>...</td>\n",
              "      <td>...</td>\n",
              "    </tr>\n",
              "    <tr>\n",
              "      <th>1484</th>\n",
              "      <td>[[[216, 216, 216], [198, 198, 198], [162, 162,...</td>\n",
              "      <td>wn</td>\n",
              "    </tr>\n",
              "    <tr>\n",
              "      <th>1481</th>\n",
              "      <td>[[[71, 71, 71], [69, 69, 69], [104, 104, 104],...</td>\n",
              "      <td>wn</td>\n",
              "    </tr>\n",
              "    <tr>\n",
              "      <th>1478</th>\n",
              "      <td>[[[142, 142, 142], [138, 138, 138], [168, 168,...</td>\n",
              "      <td>wn</td>\n",
              "    </tr>\n",
              "    <tr>\n",
              "      <th>1508</th>\n",
              "      <td>[[[169, 169, 169], [160, 160, 160], [169, 169,...</td>\n",
              "      <td>wn</td>\n",
              "    </tr>\n",
              "    <tr>\n",
              "      <th>2999</th>\n",
              "      <td>[[[47, 47, 47], [59, 59, 59], [107, 107, 107],...</td>\n",
              "      <td>wn</td>\n",
              "    </tr>\n",
              "  </tbody>\n",
              "</table>\n",
              "<p>3000 rows × 2 columns</p>\n",
              "</div>\n",
              "      <button class=\"colab-df-convert\" onclick=\"convertToInteractive('df-08ad452f-c134-4bf4-aadc-145bb84d6b99')\"\n",
              "              title=\"Convert this dataframe to an interactive table.\"\n",
              "              style=\"display:none;\">\n",
              "        \n",
              "  <svg xmlns=\"http://www.w3.org/2000/svg\" height=\"24px\"viewBox=\"0 0 24 24\"\n",
              "       width=\"24px\">\n",
              "    <path d=\"M0 0h24v24H0V0z\" fill=\"none\"/>\n",
              "    <path d=\"M18.56 5.44l.94 2.06.94-2.06 2.06-.94-2.06-.94-.94-2.06-.94 2.06-2.06.94zm-11 1L8.5 8.5l.94-2.06 2.06-.94-2.06-.94L8.5 2.5l-.94 2.06-2.06.94zm10 10l.94 2.06.94-2.06 2.06-.94-2.06-.94-.94-2.06-.94 2.06-2.06.94z\"/><path d=\"M17.41 7.96l-1.37-1.37c-.4-.4-.92-.59-1.43-.59-.52 0-1.04.2-1.43.59L10.3 9.45l-7.72 7.72c-.78.78-.78 2.05 0 2.83L4 21.41c.39.39.9.59 1.41.59.51 0 1.02-.2 1.41-.59l7.78-7.78 2.81-2.81c.8-.78.8-2.07 0-2.86zM5.41 20L4 18.59l7.72-7.72 1.47 1.35L5.41 20z\"/>\n",
              "  </svg>\n",
              "      </button>\n",
              "      \n",
              "  <style>\n",
              "    .colab-df-container {\n",
              "      display:flex;\n",
              "      flex-wrap:wrap;\n",
              "      gap: 12px;\n",
              "    }\n",
              "\n",
              "    .colab-df-convert {\n",
              "      background-color: #E8F0FE;\n",
              "      border: none;\n",
              "      border-radius: 50%;\n",
              "      cursor: pointer;\n",
              "      display: none;\n",
              "      fill: #1967D2;\n",
              "      height: 32px;\n",
              "      padding: 0 0 0 0;\n",
              "      width: 32px;\n",
              "    }\n",
              "\n",
              "    .colab-df-convert:hover {\n",
              "      background-color: #E2EBFA;\n",
              "      box-shadow: 0px 1px 2px rgba(60, 64, 67, 0.3), 0px 1px 3px 1px rgba(60, 64, 67, 0.15);\n",
              "      fill: #174EA6;\n",
              "    }\n",
              "\n",
              "    [theme=dark] .colab-df-convert {\n",
              "      background-color: #3B4455;\n",
              "      fill: #D2E3FC;\n",
              "    }\n",
              "\n",
              "    [theme=dark] .colab-df-convert:hover {\n",
              "      background-color: #434B5C;\n",
              "      box-shadow: 0px 1px 3px 1px rgba(0, 0, 0, 0.15);\n",
              "      filter: drop-shadow(0px 1px 2px rgba(0, 0, 0, 0.3));\n",
              "      fill: #FFFFFF;\n",
              "    }\n",
              "  </style>\n",
              "\n",
              "      <script>\n",
              "        const buttonEl =\n",
              "          document.querySelector('#df-08ad452f-c134-4bf4-aadc-145bb84d6b99 button.colab-df-convert');\n",
              "        buttonEl.style.display =\n",
              "          google.colab.kernel.accessAllowed ? 'block' : 'none';\n",
              "\n",
              "        async function convertToInteractive(key) {\n",
              "          const element = document.querySelector('#df-08ad452f-c134-4bf4-aadc-145bb84d6b99');\n",
              "          const dataTable =\n",
              "            await google.colab.kernel.invokeFunction('convertToInteractive',\n",
              "                                                     [key], {});\n",
              "          if (!dataTable) return;\n",
              "\n",
              "          const docLinkHtml = 'Like what you see? Visit the ' +\n",
              "            '<a target=\"_blank\" href=https://colab.research.google.com/notebooks/data_table.ipynb>data table notebook</a>'\n",
              "            + ' to learn more about interactive tables.';\n",
              "          element.innerHTML = '';\n",
              "          dataTable['output_type'] = 'display_data';\n",
              "          await google.colab.output.renderOutput(dataTable, element);\n",
              "          const docLink = document.createElement('div');\n",
              "          docLink.innerHTML = docLinkHtml;\n",
              "          element.appendChild(docLink);\n",
              "        }\n",
              "      </script>\n",
              "    </div>\n",
              "  </div>\n",
              "  "
            ]
          },
          "metadata": {},
          "execution_count": 44
        }
      ]
    },
    {
      "cell_type": "code",
      "execution_count": 48,
      "id": "4680011c",
      "metadata": {
        "id": "4680011c",
        "colab": {
          "base_uri": "https://localhost:8080/",
          "height": 281
        },
        "outputId": "dd21b14b-9f13-42f1-9cb1-14cea5ad8e49"
      },
      "outputs": [
        {
          "output_type": "display_data",
          "data": {
            "text/plain": [
              "<Figure size 432x288 with 1 Axes>"
            ],
            "image/png": "[encoded data removed]"
          },
          "metadata": {
            "needs_background": "light"
          }
        }
      ],
      "source": [
        "i = 1\n",
        "plt.imshow(new_df['image_data'][i])\n",
        "plt.title(new_df['class'][i])\n",
        "plt.show()"
      ]
    },
    {
      "cell_type": "markdown",
      "id": "f3269a61",
      "metadata": {
        "id": "f3269a61"
      },
      "source": [
        "# GENERATE SETS"
      ]
    },
    {
      "cell_type": "code",
      "execution_count": 6,
      "id": "444742b5",
      "metadata": {
        "id": "444742b5"
      },
      "outputs": [],
      "source": [
        "#Why save this dataframe\n",
        "path_dataframe = os.getcwd() + '/Dataframes/'\n",
        "##Salvar esse DF       \n",
        "def salvaDataFrames_pkl(dataFrame,caminhoSaida,nomeArquivo):\n",
        "    dataFrame.to_pickle(caminhoSaida+'/'+nomeArquivo, compression='infer')\n",
        "\n",
        "\n",
        "salvaDataFrames_pkl(df_rect_1,path_dataframe,'Data_Frame_Noise_images.pkl')"
      ]
    },
    {
      "cell_type": "code",
      "execution_count": null,
      "id": "c66fdd06",
      "metadata": {
        "id": "c66fdd06"
      },
      "outputs": [],
      "source": [
        "#ADJUST IMG DIM\n",
        "from PIL import Image\n",
        "import cv2 \n",
        "from keras.preprocessing.image import ImageDataGenerator, array_to_img, img_to_array, load_img\n",
        "image_list = []\n",
        "i = 0\n",
        "for i in range(len(df_rect_1)):\n",
        "    print(i)\n",
        "    #old_im = cv2.imread(df_rect_1.loc[i,'image_data'])    \n",
        "    res = cv2.resize(df_rect_1.loc[i,'image_data'],(128,128),cv2.INTER_AREA)\n",
        "    gray = cv2.cvtColor(res, cv2.COLOR_BGR2GRAY) #Whay put on gray?\n",
        "    print(gray.shape)\n",
        "    image_list.append(gray)\n",
        "    print(i)"
      ]
    },
    {
      "cell_type": "code",
      "execution_count": 8,
      "id": "24857981",
      "metadata": {
        "id": "24857981"
      },
      "outputs": [],
      "source": [
        "labels = []\n",
        "i=0\n",
        "for i in range(len(df_rect_1.index)):\n",
        "    #(0-white noise, 1-pink noise, 2- red noise)\n",
        "    if df_rect_1.loc[i,'class'] == 'wn':\n",
        "        labels.append(0)\n",
        "    elif df_rect_1.loc[i,'class'] == 'pn':\n",
        "        labels.append(1)\n",
        "    elif df_rect_1.loc[i,'class'] == 'rn':\n",
        "        labels.append(2)\n",
        "\n",
        "labels = np.array(labels)"
      ]
    },
    {
      "cell_type": "code",
      "source": [
        "labels"
      ],
      "metadata": {
        "id": "A4Xp9HToSSkn",
        "outputId": "6f2bfc9f-6a70-4332-bf09-3c08f94b7a07",
        "colab": {
          "base_uri": "https://localhost:8080/"
        }
      },
      "id": "A4Xp9HToSSkn",
      "execution_count": 20,
      "outputs": [
        {
          "output_type": "execute_result",
          "data": {
            "text/plain": [
              "array([1, 2, 0, ..., 1, 2, 0])"
            ]
          },
          "metadata": {},
          "execution_count": 20
        }
      ]
    },
    {
      "cell_type": "code",
      "execution_count": 9,
      "id": "d2fda680",
      "metadata": {
        "id": "d2fda680",
        "colab": {
          "base_uri": "https://localhost:8080/"
        },
        "outputId": "5bc1c02c-d268-4640-c03e-6d82e4d1e6d3"
      },
      "outputs": [
        {
          "output_type": "stream",
          "name": "stdout",
          "text": [
            "(2400, 128, 128, 1)\n"
          ]
        }
      ],
      "source": [
        "from sklearn.base import BaseEstimator, TransformerMixin\n",
        "from sklearn.model_selection import train_test_split\n",
        "import numpy as np\n",
        "from tensorflow import keras\n",
        "from tensorflow.keras import layers\n",
        "\n",
        "'''\n",
        "Montar Conjunto de Treinamento - Testes IMAGENS ARTIFICIAIS\n",
        "'''\n",
        "#Dividindo Conjunto de treinamento e de Teste\n",
        "X_train, X_test, y_train, y_test = train_test_split(\n",
        "    np.asarray(image_list),\n",
        "    np.asarray(labels),\n",
        "    test_size=0.20, \n",
        "    shuffle=True,\n",
        "    random_state=42,\n",
        ")\n",
        "\n",
        "# Scale images to the [0, 1] range\n",
        "X_train = X_train.reshape(len(X_train),128,128,1) \n",
        "X_test = X_test.reshape(len(X_test),128,128,1)\n",
        "\n",
        "X_train = X_train.astype('float32')/255\n",
        "X_test = X_test.astype('float32')/255\n",
        "print(X_train.shape)\n",
        "\n",
        "\n",
        "# convert class vectors to binary class matrices\n",
        "y_train = keras.utils.to_categorical(y_train, 3)\n",
        "y_test = keras.utils.to_categorical(y_test, 3)"
      ]
    },
    {
      "cell_type": "code",
      "execution_count": 10,
      "id": "86f9eb67",
      "metadata": {
        "id": "86f9eb67"
      },
      "outputs": [],
      "source": [
        "path_datasets = os.getcwd() + '/Sets/'\n",
        "\n",
        "np.save(path_datasets + 'X_train.npy', X_train)\n",
        "np.save(path_datasets + 'X_test.npy', X_test)\n",
        "np.save(path_datasets + 'y_train.npy', y_train)\n",
        "np.save(path_datasets + 'y_test.npy', y_test)"
      ]
    },
    {
      "cell_type": "code",
      "execution_count": 11,
      "id": "9159be4a",
      "metadata": {
        "id": "9159be4a"
      },
      "outputs": [],
      "source": [
        "## TRAINING STEP\n",
        "path_model = os.getcwd() + '/Model/'"
      ]
    },
    {
      "cell_type": "code",
      "execution_count": 12,
      "id": "03dd16bf",
      "metadata": {
        "id": "03dd16bf",
        "colab": {
          "base_uri": "https://localhost:8080/"
        },
        "outputId": "81fcf1bf-48cd-4575-8c66-f7ebc89243fe"
      },
      "outputs": [
        {
          "output_type": "stream",
          "name": "stdout",
          "text": [
            "Model: \"sequential\"\n",
            "_________________________________________________________________\n",
            " Layer (type)                Output Shape              Param #   \n",
            "=================================================================\n",
            " conv2d (Conv2D)             (None, 126, 126, 32)      320       \n",
            "                                                                 \n",
            " max_pooling2d (MaxPooling2D  (None, 63, 63, 32)       0         \n",
            " )                                                               \n",
            "                                                                 \n",
            " conv2d_1 (Conv2D)           (None, 61, 61, 64)        18496     \n",
            "                                                                 \n",
            " max_pooling2d_1 (MaxPooling  (None, 30, 30, 64)       0         \n",
            " 2D)                                                             \n",
            "                                                                 \n",
            " flatten (Flatten)           (None, 57600)             0         \n",
            "                                                                 \n",
            " dropout (Dropout)           (None, 57600)             0         \n",
            "                                                                 \n",
            " dense (Dense)               (None, 3)                 172803    \n",
            "                                                                 \n",
            "=================================================================\n",
            "Total params: 191,619\n",
            "Trainable params: 191,619\n",
            "Non-trainable params: 0\n",
            "_________________________________________________________________\n",
            "Epoch 1/15\n",
            "17/17 [==============================] - 45s 3s/step - loss: 0.9927 - accuracy: 0.5176 - val_loss: 0.6287 - val_accuracy: 0.9583\n",
            "Epoch 2/15\n",
            "17/17 [==============================] - 43s 3s/step - loss: 0.3559 - accuracy: 0.9731 - val_loss: 0.1352 - val_accuracy: 1.0000\n",
            "Epoch 3/15\n",
            "17/17 [==============================] - 43s 3s/step - loss: 0.0739 - accuracy: 0.9991 - val_loss: 0.0379 - val_accuracy: 1.0000\n",
            "Epoch 4/15\n",
            "17/17 [==============================] - 43s 3s/step - loss: 0.0321 - accuracy: 0.9981 - val_loss: 0.0331 - val_accuracy: 1.0000\n",
            "Epoch 5/15\n",
            "17/17 [==============================] - 44s 3s/step - loss: 0.0135 - accuracy: 0.9995 - val_loss: 0.0051 - val_accuracy: 1.0000\n",
            "Epoch 6/15\n",
            "17/17 [==============================] - 44s 3s/step - loss: 0.0067 - accuracy: 1.0000 - val_loss: 0.0046 - val_accuracy: 1.0000\n",
            "Epoch 7/15\n",
            "17/17 [==============================] - 44s 3s/step - loss: 0.0044 - accuracy: 1.0000 - val_loss: 0.0030 - val_accuracy: 1.0000\n",
            "Epoch 8/15\n",
            "17/17 [==============================] - 44s 3s/step - loss: 0.0032 - accuracy: 1.0000 - val_loss: 0.0026 - val_accuracy: 1.0000\n",
            "Epoch 9/15\n",
            "17/17 [==============================] - 44s 3s/step - loss: 0.0027 - accuracy: 1.0000 - val_loss: 0.0016 - val_accuracy: 1.0000\n",
            "Epoch 10/15\n",
            "17/17 [==============================] - 44s 3s/step - loss: 0.0020 - accuracy: 1.0000 - val_loss: 0.0012 - val_accuracy: 1.0000\n",
            "Epoch 11/15\n",
            "17/17 [==============================] - 44s 3s/step - loss: 0.0017 - accuracy: 1.0000 - val_loss: 0.0011 - val_accuracy: 1.0000\n",
            "Epoch 12/15\n",
            "17/17 [==============================] - 44s 3s/step - loss: 0.0015 - accuracy: 1.0000 - val_loss: 0.0014 - val_accuracy: 1.0000\n",
            "Epoch 13/15\n",
            "17/17 [==============================] - 44s 3s/step - loss: 0.0014 - accuracy: 1.0000 - val_loss: 0.0013 - val_accuracy: 1.0000\n",
            "Epoch 14/15\n",
            "17/17 [==============================] - 44s 3s/step - loss: 0.0011 - accuracy: 1.0000 - val_loss: 7.2538e-04 - val_accuracy: 1.0000\n",
            "Epoch 15/15\n",
            "17/17 [==============================] - 44s 3s/step - loss: 9.6216e-04 - accuracy: 1.0000 - val_loss: 6.3027e-04 - val_accuracy: 1.0000\n",
            "19/19 [==============================] - 3s 162ms/step - loss: 8.4547e-04 - accuracy: 1.0000\n",
            "test_mse: 1.0\n"
          ]
        }
      ],
      "source": [
        "'''\n",
        "# =============================================================================\n",
        "# NEURAL MODEL - CONVOLUTIONAL NEURAL NETWORK - SIMPLE - RETURNS POINTS (X,Y)\n",
        "# =============================================================================\n",
        "'''\n",
        "from keras import layers\n",
        "from keras import models\n",
        "from keras import optimizers\n",
        "#from keras.utils import to_categorical\n",
        "from tensorflow.keras.utils import to_categorical\n",
        "#from keras.models import Sequential\n",
        "from tensorflow.keras.models import Sequential\n",
        "#from keras.utils import multi_gpu_model\n",
        "#from tensorflow.keras.utils import multi_gpu_model\n",
        "\n",
        "'''\n",
        "# =============================================================================\n",
        "# TESTANDO OUTRAS ABORDAGENS -- O MELHOR MODELO - TEST 1\n",
        "#=============================================================================\n",
        "'''\n",
        "model = keras.Sequential(\n",
        "    [\n",
        "        keras.Input(shape=(128,128,1)),\n",
        "        layers.Conv2D(32, kernel_size=(3, 3), activation=\"relu\"),\n",
        "        layers.MaxPooling2D(pool_size=(2, 2)),\n",
        "        layers.Conv2D(64, kernel_size=(3, 3), activation=\"relu\"),\n",
        "        layers.MaxPooling2D(pool_size=(2, 2)),\n",
        "        layers.Flatten(),\n",
        "        layers.Dropout(0.5),\n",
        "        layers.Dense(3, activation=\"softmax\"),\n",
        "    ]\n",
        ")\n",
        "\n",
        "model.summary()\n",
        "\n",
        "batch_size = 128\n",
        "epochs = 15\n",
        "\n",
        "model.compile(loss=\"categorical_crossentropy\", optimizer=\"adam\", metrics=[\"accuracy\"])\n",
        "history = model.fit(X_train, y_train, batch_size=batch_size, epochs=epochs, validation_split=0.1)\n",
        "test_loss, test_acc = model.evaluate(X_test, y_test)\n",
        "print('test_mse:', test_acc)"
      ]
    },
    {
      "cell_type": "code",
      "execution_count": 13,
      "id": "3ee66331",
      "metadata": {
        "id": "3ee66331"
      },
      "outputs": [],
      "source": [
        "def salvarmodelo(nome,modelo):\n",
        "    #Salvando\n",
        "    filename = nome+'.sav'\n",
        "    pickle.dump(modelo, open(filename, 'wb'))\n",
        "    \n",
        "\n",
        "def salvardicionario(nome, history):\n",
        "    #Salvando Dicionario\n",
        "    w = csv.writer(open(nome+\".csv\", \"w\"))\n",
        "    for key, val in history.items():\n",
        "        w.writerow([key, val])    \n",
        "        \n",
        "#Estatisticas do modelo\n",
        "#cria dicionario\n",
        "history_dict = history.history\n",
        "history_dict.keys()\n",
        "#Salvando Dicionario\n",
        "salvardicionario(path_model+\"History_noise_class\",history_dict)\n",
        "model.save(path_model+\"Cnn_model_noise_class.h5\")"
      ]
    },
    {
      "cell_type": "code",
      "execution_count": 14,
      "id": "6654ac0a",
      "metadata": {
        "id": "6654ac0a"
      },
      "outputs": [],
      "source": [
        "## VERIFY STATS AND TRAINING\n",
        "def abreDataFrame(caminho,nomeArq):\n",
        "    dataFrame = pd.read_pickle(caminho + nomeArq)#READ PICKLE MUITO IMPORTANTE!!!!!\n",
        "    return dataFrame\n",
        "\n",
        "def abreDataFramecsv(caminho,nomeArq):\n",
        "    dataFrame = pd.read_csv(caminho + nomeArq,names=['Metrics','Values'])#READ PICKLE MUITO IMPORTANTE!!!!!\n",
        "    return dataFrame\n"
      ]
    },
    {
      "cell_type": "code",
      "execution_count": 15,
      "id": "b670b801",
      "metadata": {
        "id": "b670b801"
      },
      "outputs": [],
      "source": [
        "#ConvNet_1D_ARQ1_MULTIFILTRO\n",
        "nome_History = 'History_noise_class.csv'\n",
        "nome_Model = \"Cnn_model_noise_class.h5\""
      ]
    },
    {
      "cell_type": "code",
      "execution_count": 16,
      "id": "4bddea80",
      "metadata": {
        "id": "4bddea80",
        "colab": {
          "base_uri": "https://localhost:8080/",
          "height": 823
        },
        "outputId": "b2cd2915-c2b2-4afc-af4f-11064c18cda3"
      },
      "outputs": [
        {
          "output_type": "display_data",
          "data": {
            "text/plain": [
              "<Figure size 432x288 with 1 Axes>"
            ],
            "image/png": "[encoded data removed]"
          },
          "metadata": {
            "needs_background": "light"
          }
        },
        {
          "output_type": "display_data",
          "data": {
            "text/plain": [
              "<Figure size 432x288 with 1 Axes>"
            ],
            "image/png": "[encoded data removed]"
          },
          "metadata": {
            "needs_background": "light"
          }
        },
        {
          "output_type": "display_data",
          "data": {
            "text/plain": [
              "<Figure size 432x288 with 1 Axes>"
            ],
            "image/png": "[encoded data removed]"
          },
          "metadata": {
            "needs_background": "light"
          }
        }
      ],
      "source": [
        "'''\n",
        "Plotando as Curvas de Validação e de Erro - Aprendizado do Modelo\n",
        "'''\n",
        "history = abreDataFramecsv(path_model, nome_History)\n",
        "#history = history.to_dict()\n",
        "acc = history.loc[3,'Values']\n",
        "val_acc = history.loc[1,'Values']\n",
        "loss = history.loc[2,'Values']\n",
        "val_loss = history.loc[0,'Values']\n",
        "\n",
        "from ast import literal_eval\n",
        "\n",
        "acc = literal_eval(acc)\n",
        "val_acc = literal_eval(val_acc)\n",
        "loss = literal_eval(loss)\n",
        "val_loss = literal_eval(val_loss)\n",
        "\n",
        "\n",
        "epochs = range(1, len(acc) + 1)\n",
        "plt.plot(epochs, acc,'k', label='Acuracia no Treinamento')\n",
        "plt.plot(epochs, val_acc, 'b', label='Acuracia no Teste')\n",
        "plt.title('Acurácia no Treinamento e no Teste')\n",
        "plt.legend()\n",
        "plt.figure()\n",
        "plt.plot(epochs, loss,'k', label='Training loss')\n",
        "plt.plot(epochs, val_loss, 'b', label='Test loss')\n",
        "plt.title('Erro no Treinamento e no Teste')\n",
        "plt.legend()\n",
        "plt.show()\n",
        " \n",
        "plt.figure()\n",
        "acc_values = acc\n",
        "val_acc_values = val_acc\n",
        "plt.plot(epochs, acc, 'blue', label='Training acc')\n",
        "plt.plot(epochs, val_acc_values, 'orange', label='Validation acc')\n",
        "plt.title('Training and validation accuracy')\n",
        "plt.xlabel('Epochs')\n",
        "plt.ylabel('Loss')\n",
        "plt.legend()\n",
        "plt.show()"
      ]
    },
    {
      "cell_type": "code",
      "execution_count": 17,
      "id": "f1682717",
      "metadata": {
        "id": "f1682717",
        "colab": {
          "base_uri": "https://localhost:8080/"
        },
        "outputId": "66d15b76-3b73-47bd-ad22-607572a318fd"
      },
      "outputs": [
        {
          "output_type": "stream",
          "name": "stdout",
          "text": [
            "Estatisticas do Modelo - ConvNet_Noise_Class - Treino\n",
            "Erro medio quadratico:  0.0\n",
            "Acuracia:  1.0\n",
            "Precisao:  [1. 1. 1.]\n",
            "Recall:  [1. 1. 1.]\n",
            "F1 -Score:  [1. 1. 1.]\n",
            "Estatisticas do Modelo - ConvNet_Noise_Class - Testes\n",
            "Erro medio quadratico:  0.0\n",
            "Acuracia:  1.0\n",
            "Precisao:  [1. 1. 1.]\n",
            "Recall:  [1. 1. 1.]\n",
            "F1 -Score:  [1. 1. 1.]\n"
          ]
        }
      ],
      "source": [
        "'''\n",
        "# =============================================================================\n",
        "# COMPUTANDO ESTATISTICAS\n",
        "# =============================================================================\n",
        "'''\n",
        "from sklearn.neural_network import MLPClassifier\n",
        "from sklearn.metrics import mean_squared_error\n",
        "from sklearn.metrics import accuracy_score\n",
        "from sklearn.metrics import precision_score\n",
        "from sklearn.metrics import recall_score\n",
        "from sklearn.metrics import f1_score\n",
        "from sklearn.model_selection import validation_curve\n",
        "\n",
        "def computaStats_Classification(modelo,nome,X_a,y_a):\n",
        "    print(\"Estatisticas do Modelo - \"+nome)\n",
        "    #predição\n",
        "    y_pred = modelo.predict([X_a])\n",
        "    y_true = y_a\n",
        "    #Convert predictions classes to one hot vectors \n",
        "    Y_pred_classes = np.argmax(y_pred,axis = 1) \n",
        "    #Convert validation observations to one hot vectors\n",
        "    Y_true = np.argmax(y_a,axis = 1) \n",
        "    #MEAN SQUARE ERROR\n",
        "    \n",
        "    print(\"Erro medio quadratico: \", mean_squared_error(Y_true, Y_pred_classes))\n",
        "    \n",
        "    #Acurácia\n",
        "    print(\"Acuracia: \", accuracy_score(Y_true, Y_pred_classes))\n",
        "    \n",
        "    #Precisão\n",
        "    print(\"Precisao: \", precision_score(Y_true, Y_pred_classes,average=None))\n",
        "    \n",
        "    #Recall\n",
        "    print(\"Recall: \", recall_score(Y_true, Y_pred_classes,average=None))\n",
        "    \n",
        "    #F1 - Score\n",
        "    print(\"F1 -Score: \", f1_score(Y_true, Y_pred_classes,average=None))\n",
        "    \n",
        "\n",
        "computaStats_Classification(model,'ConvNet_Noise_Class - Treino',X_train,y_train)\n",
        "# print(\"--------**********-------------***********---------------**************\")\n",
        "computaStats_Classification(model,'ConvNet_Noise_Class - Testes',X_test,y_test)"
      ]
    },
    {
      "cell_type": "code",
      "execution_count": 18,
      "id": "a68a64b9",
      "metadata": {
        "id": "a68a64b9",
        "outputId": "7d921017-b7d5-4cc8-916e-8c53583b1352",
        "colab": {
          "base_uri": "https://localhost:8080/",
          "height": 166
        }
      },
      "outputs": [
        {
          "output_type": "error",
          "ename": "NameError",
          "evalue": "ignored",
          "traceback": [
            "\u001b[0;31m---------------------------------------------------------------------------\u001b[0m",
            "\u001b[0;31mNameError\u001b[0m                                 Traceback (most recent call last)",
            "\u001b[0;32m<ipython-input-18-3f786850e387>\u001b[0m in \u001b[0;36m<module>\u001b[0;34m()\u001b[0m\n\u001b[0;32m----> 1\u001b[0;31m \u001b[0ma\u001b[0m\u001b[0;34m\u001b[0m\u001b[0;34m\u001b[0m\u001b[0m\n\u001b[0m",
            "\u001b[0;31mNameError\u001b[0m: name 'a' is not defined"
          ]
        }
      ],
      "source": [
        "a"
      ]
    },
    {
      "cell_type": "code",
      "source": [
        ""
      ],
      "metadata": {
        "id": "-I-b-7jYQ-KN"
      },
      "id": "-I-b-7jYQ-KN",
      "execution_count": null,
      "outputs": []
    }
  ],
  "metadata": {
    "kernelspec": {
      "display_name": "Python 3 (ipykernel)",
      "language": "python",
      "name": "python3"
    },
    "language_info": {
      "codemirror_mode": {
        "name": "ipython",
        "version": 3
      },
      "file_extension": ".py",
      "mimetype": "text/x-python",
      "name": "python",
      "nbconvert_exporter": "python",
      "pygments_lexer": "ipython3",
      "version": "3.7.2"
    },
    "colab": {
      "name": "CNN for Noise class.ipynb",
      "provenance": [],
      "include_colab_link": true
    }
  },
  "nbformat": 4,
  "nbformat_minor": 5
}