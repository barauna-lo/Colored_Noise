{
  "nbformat": 4,
  "nbformat_minor": 0,
  "metadata": {
    "colab": {
      "provenance": [],
      "collapsed_sections": [],
      "toc_visible": true,
      "authorship_tag": "ABX9TyOP2NwMROXuwcnI08Vqg94J",
      "include_colab_link": true
    },
    "kernelspec": {
      "name": "python3",
      "display_name": "Python 3"
    },
    "language_info": {
      "name": "python"
    }
  },
  "cells": [
    {
      "cell_type": "markdown",
      "metadata": {
        "id": "view-in-github",
        "colab_type": "text"
      },
      "source": [
        "<a href=\"https://colab.research.google.com/github/barauna-lo/Colored_Noise/blob/main/RNN_PSD_prediction.ipynb\" target=\"_parent\"><img src=\"https://colab.research.google.com/assets/colab-badge.svg\" alt=\"Open In Colab\"/></a>"
      ]
    },
    {
      "cell_type": "markdown",
      "source": [
        "#Librarys"
      ],
      "metadata": {
        "id": "CWXP8IXMIsIi"
      }
    },
    {
      "cell_type": "code",
      "execution_count": 1,
      "metadata": {
        "colab": {
          "base_uri": "https://localhost:8080/"
        },
        "id": "_gqPalciLgWK",
        "outputId": "1b997097-c91e-4539-fd6f-1db221e90ae8"
      },
      "outputs": [
        {
          "output_type": "stream",
          "name": "stdout",
          "text": [
            "Looking in indexes: https://pypi.org/simple, https://us-python.pkg.dev/colab-wheels/public/simple/\n",
            "Collecting colorednoise\n",
            "  Downloading colorednoise-2.1.0-py3-none-any.whl (4.5 kB)\n",
            "Requirement already satisfied: numpy>=1.17.0 in /usr/local/lib/python3.7/dist-packages (from colorednoise) (1.21.6)\n",
            "Installing collected packages: colorednoise\n",
            "Successfully installed colorednoise-2.1.0\n"
          ]
        }
      ],
      "source": [
        "!pip install colorednoise\n",
        "import colorednoise as cn\n",
        "import tensorflow as tf\n",
        "import numpy as np\n",
        "import matplotlib.pyplot as plt\n",
        "np.random.seed(42)\n",
        "tf.random.set_seed(42)\n",
        "import seaborn as sns\n",
        "sns.set_style('darkgrid')\n",
        "\n",
        "from keras import Sequential\n",
        "from keras.layers import Conv2D, Flatten, Dense, LSTM, GRU, RNN,SimpleRNN, InputLayer,Conv1D, add, Reshape, Flatten\n",
        "from sklearn.preprocessing import MinMaxScaler, MaxAbsScaler\n",
        "from sklearn.metrics import mean_squared_error\n",
        "from sklearn import preprocessing\n",
        "#from datetime import datetime # for put the time info in each plot          #https://stackoverflow.com/questions/415511/how-to-get-the-current-time-in-python\n",
        "import time as time"
      ]
    },
    {
      "cell_type": "markdown",
      "source": [
        "$$\n",
        "Ftt = \\sum a_i \\sin(2k\\pi)+ i b_i \\cos(2k\\pi)\\\\\n",
        "$$\n",
        "$$\n",
        "PSD = (a_i + b_i)(a_i-b_i)\\\\\n",
        "$$\n",
        "$$\n",
        "PSD = a^2 + b^2\\\\\n",
        "$$\n",
        "$$\n",
        "S_h = {\\sum PSD_i \\log(PSD_i) \\over \\log\\left(\\frac{1}{N}\\right)}\n",
        "$$\n",
        "\n",
        "were $b$ in the imaginarius parte"
      ],
      "metadata": {
        "id": "ccP2Tg-BZ8Ni"
      }
    },
    {
      "cell_type": "markdown",
      "source": [
        "# Functions"
      ],
      "metadata": {
        "id": "-1a6_v0savYM"
      }
    },
    {
      "cell_type": "code",
      "source": [
        "def entropyShannon(data,norm=True):\n",
        "  '''\n",
        "  Calculate the Shannon spectrum entropy for a given dataseta\n",
        "  '''\n",
        "  cdata = tf.cast(data,tf.complex128) #tf complex 128 format\n",
        "  cdata = tf.signal.fft(cdata) #Fast Fourrie Transformation\n",
        "  cdata = cdata*tf.math.conj(cdata) #PSD Calculation\n",
        "  cdata = cdata[:len(cdata)//2] #Take only haf\n",
        "  cdata = cdata/tf.math.reduce_sum(cdata) #Normalização???\n",
        "  sh = cdata*tf.math.log(cdata) # Calculate Shannon entropy p1\n",
        "  sh = tf.math.real(tf.math.reduce_sum(sh)) #Calculate Shannon entropy p2\n",
        "  if norm == True: #Normalize?\n",
        "    norm = tf.cast(tf.math.log(1.0/tf.cast(len(cdata),tf.float64) ),tf.float64)\n",
        "    return cdata, sh/norm\n",
        "  else:\n",
        "    return cdata, -sh\n",
        "\n",
        "\n",
        "def fftfreq(n, d=1.0):\n",
        "    \"\"\"\n",
        "    Return the Discrete Fourier Transform sample frequencies.\n",
        "    The returned float array `f` contains the frequency bin centers in cycles\n",
        "    per unit of the sample spacing (with zero at the start).  For instance, if\n",
        "    the sample spacing is in seconds, then the frequency unit is cycles/second.\n",
        "    Given a window length `n` and a sample spacing `d`::\n",
        "      f = [0, 1, ...,   n/2-1,     -n/2, ..., -1] / (d*n)   if n is even\n",
        "      f = [0, 1, ..., (n-1)/2, -(n-1)/2, ..., -1] / (d*n)   if n is odd\n",
        "    Parameters\n",
        "    ----------\n",
        "    n : int\n",
        "        Window length.\n",
        "    d : scalar, optional\n",
        "        Sample spacing (inverse of the sampling rate). Defaults to 1.\n",
        "    Returns\n",
        "    -------\n",
        "    f : ndarray\n",
        "        Array of length `n` containing the sample frequencies.\n",
        "    Examples\n",
        "    --------\n",
        "    >>> signal = np.array([-2, 8, 6, 4, 1, 0, 3, 5], dtype=float)\n",
        "    >>> fourier = np.fft.fft(signal)\n",
        "    >>> n = signal.size\n",
        "    >>> timestep = 0.1\n",
        "    >>> freq = np.fft.fftfreq(n, d=timestep)\n",
        "    >>> freq\n",
        "    array([ 0.  ,  1.25,  2.5 , ..., -3.75, -2.5 , -1.25])\n",
        "    \"\"\"\n",
        "    if not isinstance(n, integer_types):\n",
        "        raise ValueError(\"n should be an integer\")\n",
        "    val = 1.0 / (n * d)\n",
        "    results = empty(n, int)\n",
        "    N = (n-1)//2 + 1\n",
        "    p1 = arange(0, N, dtype=int)\n",
        "    results[:N] = p1\n",
        "    p2 = arange(-(n//2), 0, dtype=int)\n",
        "    results[N:] = p2\n",
        "    return results * val\n",
        "\n",
        "\n",
        "def beta(data):\n",
        "  '''\n",
        "  Calculate de the PSD loglog power law index\n",
        "  '''\n",
        "  psd = tf.cast(data,tf.complex128) #tf complex 128 format\n",
        "  psd = tf.signal.fft(psd) #FFT me da um vetor complexo\n",
        "  psd = psd*tf.math.conj(psd) #Complexo conjudado \n",
        "  #print(len(data))\n",
        "  freq = np.fft.fftfreq(len(data)) #mede as frequencias da tranformada de four\n",
        "  #freq = fftfreq(1024) #mede as frequencias da tranformada de four\n",
        "  n = len(data)//2 #ponto de conte. Nesse caso é pela metade\n",
        "  psd = psd[1:n] #Só quero metade dos dados, menos o 1 pq ele estava sendo inf\n",
        "  freq =  tf.convert_to_tensor(freq[1:n]) #converte para um tensor do tf\n",
        "  psd = tf.cast(tf.math.log(psd), tf.float64) #convert para log, e só pega o real \n",
        "  freq = tf.cast(tf.math.log(freq),tf.float64) #mesma coisa, só que frequencia\n",
        "  beta, _ =np.polyfit(np.array(freq),np.array(psd),deg=1) #ajuste linear\n",
        "  return -beta #partiu para o abraço\n",
        "\n",
        "def diffBeta(y_true, y_pred):\n",
        "  return (beta(y_true)-beta(y_pred))**2\n",
        "\n",
        "def create_dataset(dataset, window_in=10,window_ou=10,window_next=1):\n",
        "\t'''\n",
        "  This function will contain two vectors, dataX and dataY, the dataX will contain a set of numbers within the time series\n",
        "  and the dataY will be its posterior value\n",
        "  For example:\n",
        "  list = [0,1,2,3,4,5,6,7,8,9,10,11,12,13,14,15]\n",
        "  if the window_in is equal to 3 anf window_ou equato to 2 we will have\n",
        "  dataX[0] = [0,1,2] ; dataY[0] = [3,4]\n",
        "  dataX[1] = [1,2,3] ; dataY[1] = [4,5]\n",
        "  dataX[2] = [2,3,4] ; dataY[2] = [5,6]\n",
        "  dataX[3] = [3,4,5] ; dataY[3] = [6,7]\n",
        "  window_next will, shift the data ex for 4:\n",
        "  dataX[0] = [0,1,2] ; dataY[0] = [3,4]\n",
        "  dataX[1] = [3,4,5] ; dataY[1] = [6,7]\n",
        "  dataX[2] = [7,8,9] ; dataY[2] = [10,11]\n",
        "  '''\n",
        "\tdataset = dataset.reshape(len(dataset),1)\n",
        "\tdataX, dataY = [], []\n",
        "\tfor i in range(0,len(dataset)-window_in-window_ou+1,window_next):\n",
        "\t\tdataX.append(dataset[i:(i+window_in), 0])\n",
        "\t\tdataY.append(dataset[i + window_in:i + window_in + window_ou, 0])\n",
        "\treturn np.array(dataX), np.array(dataY)  \n",
        "\n",
        "def plot_test(x_,y_):\n",
        "  empty = np.empty_like(x_)\n",
        "  empty[:] = np.nan\n",
        "  y2 = np.append(empty,y_)\n",
        "  plt.plot(x_)\n",
        "  plt.plot(y2)\n",
        "  #plt.show() "
      ],
      "metadata": {
        "id": "_Fjlz0ztMiRW"
      },
      "execution_count": 4,
      "outputs": []
    },
    {
      "cell_type": "markdown",
      "source": [
        "# Data"
      ],
      "metadata": {
        "id": "4o1tUbI7dF2A"
      }
    },
    {
      "cell_type": "markdown",
      "source": [
        "## Data Download"
      ],
      "metadata": {
        "id": "OboDcg4lIxo5"
      }
    },
    {
      "cell_type": "code",
      "source": [
        "#Monting Google Drive\n",
        "#https://medium.com/analyatics-vidhya/how-to-download-kaggle-datasets-into-google-colab-via-google-drive-dcb348d7af07\n",
        "from google.colab import drive\n",
        "drive.mount('/content/drive')\n",
        "#Importing and conifg the Kaggle Drive\n",
        "import os\n",
        "os.environ['KAGGLE_CONFIG_DIR'] = \"/content/drive/MyDrive/Kaggle\"\n",
        "# Acessing the folder\n",
        "%cd /content/drive/MyDrive/Kaggle/\n",
        "# Dowloading NASA data-set\n",
        "!kaggle datasets download -d luanorionbarana/synthetic-colored-noise\n",
        "#Unziping data-set\n",
        "!unzip \"synthetic-colored-noise.zip\" -d \"/content/\"\n",
        "\n",
        "# #Retorning to Sample folder! NOT NECESSERY\n",
        "%cd ..\n",
        "%cd ..\n",
        "%cd ..\n",
        "\n",
        "# Reading the data\n",
        "import pandas as pd \n",
        "df = pd.read_pickle('color_4series.plk')\n",
        "\n",
        "#Alocating Series\n",
        "serie_index = 0  #white Noise\n",
        "#serie_index = 4 #pink noise\n",
        "#serie_index =  9#red Noise\n",
        "\n",
        "min_size , max_size = 0 , len(df.Series[0])\n",
        "\n",
        "dataframe = pd.DataFrame({\"Serie\":df['Series'][serie_index][min_size:max_size]})\n",
        "dataset = dataframe.values.astype('float32')"
      ],
      "metadata": {
        "id": "JfbGI0uMo21b",
        "outputId": "7d2e239f-3d7d-452d-9d61-e52d565b7fca",
        "colab": {
          "base_uri": "https://localhost:8080/"
        }
      },
      "execution_count": null,
      "outputs": [
        {
          "output_type": "stream",
          "name": "stdout",
          "text": [
            "Mounted at /content/drive\n",
            "/content/drive/MyDrive/Kaggle\n",
            "synthetic-colored-noise.zip: Skipping, found more recently modified local copy (use --force to force download)\n",
            "Archive:  synthetic-colored-noise.zip\n",
            "  inflating: /content/color.csv      \n",
            "  inflating: /content/color.plk      \n",
            "  inflating: /content/color_4series.plk  \n"
          ]
        }
      ]
    },
    {
      "cell_type": "markdown",
      "source": [
        "## Data Generations "
      ],
      "metadata": {
        "id": "MAsFclxgI2ia"
      }
    },
    {
      "cell_type": "code",
      "source": [
        "bet = 0\n",
        "samples = 2**15\n",
        "win_in = 1024\n",
        "win_ou = 1024\n",
        "jump = 2**4\n",
        "\n",
        "wn = cn.powerlaw_psd_gaussian(bet, samples)\n",
        "\n",
        "#Normalize the data\n",
        "scaler = MaxAbsScaler()\n",
        "wn1 = np.reshape(wn,(-1, 1))\n",
        "wn1 = scaler.fit_transform(wn1)\n",
        "wn2 = np.reshape(wn1,len(wn1))\n",
        "\n",
        "plt.figure(figsize=(20,5))\n",
        "plt.suptitle(f\"Orignal Beta = {bet}\",y=1.07)\n",
        "plt.subplot(1,3,1)\n",
        "plt.title(f\"Original Data\\nBeta = {beta(wn)}\\n Data Shape = {wn.shape}\")\n",
        "plt.plot(wn)\n",
        "\n",
        "plt.subplot(1,3,2)\n",
        "plt.plot(wn1)\n",
        "plt.title(f\"Normalized Data\\nBeta = {beta(wn1)}\\n Data Shape = {wn1.shape}\")\n",
        "\n",
        "plt.subplot(1,3,3)\n",
        "plt.plot(wn1)\n",
        "plt.title(f\"Normalized Data\\nBeta = {beta(wn1)}\\n Data Shape = {wn2.shape}\")\n",
        "plt.show()"
      ],
      "metadata": {
        "id": "9Bb9B1T0Wrqj",
        "outputId": "9988bfa1-45f1-4653-f2eb-4144016b5394",
        "colab": {
          "base_uri": "https://localhost:8080/",
          "height": 362
        }
      },
      "execution_count": 57,
      "outputs": [
        {
          "output_type": "display_data",
          "data": {
            "text/plain": [
              "<Figure size 1440x360 with 3 Axes>"
            ],
            "image/png": "[encoded data removed]"
          },
          "metadata": {}
        }
      ]
    },
    {
      "cell_type": "markdown",
      "source": [
        "## Create Dataset"
      ],
      "metadata": {
        "id": "V9rV9C16I-VG"
      }
    },
    {
      "cell_type": "code",
      "source": [
        "bet = 0\n",
        "samples = 2**15\n",
        "win_in = 1024\n",
        "win_ou = 1024\n",
        "jump = 2**4\n",
        "\n",
        "dataset = wn2\n",
        "\n",
        "trainX,trainY = create_dataset(dataset,win_in,win_ou,jump)\n"
      ],
      "metadata": {
        "id": "4f212gm1VYhY"
      },
      "execution_count": 46,
      "outputs": []
    },
    {
      "cell_type": "code",
      "source": [
        "#trainX = trainX.reshape(trainX.shape[0],trainX.shape[1],1)\n",
        "#trainY = trainY.reshape(np.axi,trainY.shape[1],trainY.shape[0])"
      ],
      "metadata": {
        "id": "XPQX1aTgefb7"
      },
      "execution_count": null,
      "outputs": []
    },
    {
      "cell_type": "markdown",
      "source": [
        "# Model\n",
        "\n",
        "We try to implement a custum function for the beta parameter. \n",
        "\n",
        "We will investigate the format shape for `mae` loss function and try to reproduce them"
      ],
      "metadata": {
        "id": "EVFvoPZ-dDrZ"
      }
    },
    {
      "cell_type": "code",
      "source": [
        "#Paramenters \n",
        "epochs = 3\n",
        "batch_size = 256#len(trainX)# 256#\n",
        "model_code = 'test'#All_layers_Bacth256'\n",
        "n_1 = 64#10#int(look_back*100)\n",
        "n_2 = 64#int(look_back*100)\n",
        "n_3 = 64 #int(look_back*1e-1)\n",
        "n_4 = 64#10#int(look_back*1e-1)"
      ],
      "metadata": {
        "id": "1C1VLnmZdXRT"
      },
      "execution_count": 47,
      "outputs": []
    },
    {
      "cell_type": "code",
      "source": [
        "def beta3(data):\n",
        "  '''\n",
        "  Calculate de the PSD loglog power law index\n",
        "  '''\n",
        "  psd = tf.cast(data,tf.complex128) #tf complex 128 format\n",
        "  psd = tf.signal.fft(psd) #FFT me da um vetor complexo\n",
        "  psd = psd*tf.math.conj(psd) #Complexo conjudado \n",
        "  #print(len(data))\n",
        "  timestep = 0.1\n",
        "  freq = np.fft.fftfreq(len(data))#, d = timestep)\n",
        "  return freq"
      ],
      "metadata": {
        "id": "qnrk8bdPmrCz"
      },
      "execution_count": null,
      "outputs": []
    },
    {
      "cell_type": "code",
      "source": [
        "#https://cnvrg.io/keras-custom-loss-functions/\n",
        "import keras\n",
        "import numpy as np\n",
        "from tensorflow.python.ops import math_ops\n",
        "\n",
        "def custom_loss(y_true, y_pred):\n",
        "  # def beta2(data):\n",
        "  #   '''\n",
        "  #   Calculate de the PSD loglog power law index\n",
        "  #   '''\n",
        "  #   psd = tf.cast(data,tf.complex128) #tf complex 128 format\n",
        "  #   psd = tf.signal.fft(psd) #FFT me da um vetor complexo\n",
        "  #   psd = psd*tf.math.conj(psd) #Complexo conjudado \n",
        "  #   #print(len(data))\n",
        "  #   freq = np.fft.fftfreq(1024) #mede as frequencias da tranformada de four\n",
        "  #   #freq = fftfreq(1024) #mede as frequencias da tranformada de four\n",
        "  #   n = len(data)//2 #ponto de conte. Nesse caso é pela metade\n",
        "  #   psd = psd[1:n] #Só quero metade dos dados, menos o 1 pq ele estava sendo inf\n",
        "  #   freq =  tf.convert_to_tensor(freq[1:n]) #converte para um tensor do tf\n",
        "  #   psd = tf.cast(tf.math.log(psd), tf.float64) #convert para log, e só pega o real \n",
        "  #   freq = tf.cast(tf.math.log(freq),tf.float64) #mesma coisa, só que frequencia\n",
        "  #   beta, _ =np.polyfit(np.array(freq),np.array(psd),deg=1) #ajuste linear\n",
        "  #   beta = -beta #partiu para o abraço\n",
        " diff = math_ops.squared_difference(beta(y_pred), beta(y_true))  #squared difference\n",
        " #loss = K.mean(diff, axis=-1) #mean over last dimension\n",
        " return diff"
      ],
      "metadata": {
        "id": "ofDTpyNpRSm3"
      },
      "execution_count": null,
      "outputs": []
    },
    {
      "cell_type": "code",
      "source": [
        "teste = tf.reshape(res,0)"
      ],
      "metadata": {
        "id": "k_da8DUmvNpE",
        "outputId": "210b7fff-3ec1-4a28-c7e2-55c5b84f6a24",
        "colab": {
          "base_uri": "https://localhost:8080/",
          "height": 312
        }
      },
      "execution_count": null,
      "outputs": [
        {
          "output_type": "error",
          "ename": "InvalidArgumentError",
          "evalue": "ignored",
          "traceback": [
            "\u001b[0;31m---------------------------------------------------------------------------\u001b[0m",
            "\u001b[0;31mInvalidArgumentError\u001b[0m                      Traceback (most recent call last)",
            "\u001b[0;32m<ipython-input-133-70439883362e>\u001b[0m in \u001b[0;36m<module>\u001b[0;34m\u001b[0m\n\u001b[0;32m----> 1\u001b[0;31m \u001b[0mteste\u001b[0m \u001b[0;34m=\u001b[0m \u001b[0mtf\u001b[0m\u001b[0;34m.\u001b[0m\u001b[0mreshape\u001b[0m\u001b[0;34m(\u001b[0m\u001b[0mres\u001b[0m\u001b[0;34m,\u001b[0m\u001b[0;36m0\u001b[0m\u001b[0;34m)\u001b[0m\u001b[0;34m\u001b[0m\u001b[0;34m\u001b[0m\u001b[0m\n\u001b[0m",
            "\u001b[0;32m/usr/local/lib/python3.7/dist-packages/tensorflow/python/util/traceback_utils.py\u001b[0m in \u001b[0;36merror_handler\u001b[0;34m(*args, **kwargs)\u001b[0m\n\u001b[1;32m    151\u001b[0m     \u001b[0;32mexcept\u001b[0m \u001b[0mException\u001b[0m \u001b[0;32mas\u001b[0m \u001b[0me\u001b[0m\u001b[0;34m:\u001b[0m\u001b[0;34m\u001b[0m\u001b[0;34m\u001b[0m\u001b[0m\n\u001b[1;32m    152\u001b[0m       \u001b[0mfiltered_tb\u001b[0m \u001b[0;34m=\u001b[0m \u001b[0m_process_traceback_frames\u001b[0m\u001b[0;34m(\u001b[0m\u001b[0me\u001b[0m\u001b[0;34m.\u001b[0m\u001b[0m__traceback__\u001b[0m\u001b[0;34m)\u001b[0m\u001b[0;34m\u001b[0m\u001b[0;34m\u001b[0m\u001b[0m\n\u001b[0;32m--> 153\u001b[0;31m       \u001b[0;32mraise\u001b[0m \u001b[0me\u001b[0m\u001b[0;34m.\u001b[0m\u001b[0mwith_traceback\u001b[0m\u001b[0;34m(\u001b[0m\u001b[0mfiltered_tb\u001b[0m\u001b[0;34m)\u001b[0m \u001b[0;32mfrom\u001b[0m \u001b[0;32mNone\u001b[0m\u001b[0;34m\u001b[0m\u001b[0;34m\u001b[0m\u001b[0m\n\u001b[0m\u001b[1;32m    154\u001b[0m     \u001b[0;32mfinally\u001b[0m\u001b[0;34m:\u001b[0m\u001b[0;34m\u001b[0m\u001b[0;34m\u001b[0m\u001b[0m\n\u001b[1;32m    155\u001b[0m       \u001b[0;32mdel\u001b[0m \u001b[0mfiltered_tb\u001b[0m\u001b[0;34m\u001b[0m\u001b[0;34m\u001b[0m\u001b[0m\n",
            "\u001b[0;32m/usr/local/lib/python3.7/dist-packages/tensorflow/python/framework/ops.py\u001b[0m in \u001b[0;36mraise_from_not_ok_status\u001b[0;34m(e, name)\u001b[0m\n\u001b[1;32m   7184\u001b[0m \u001b[0;32mdef\u001b[0m \u001b[0mraise_from_not_ok_status\u001b[0m\u001b[0;34m(\u001b[0m\u001b[0me\u001b[0m\u001b[0;34m,\u001b[0m \u001b[0mname\u001b[0m\u001b[0;34m)\u001b[0m\u001b[0;34m:\u001b[0m\u001b[0;34m\u001b[0m\u001b[0;34m\u001b[0m\u001b[0m\n\u001b[1;32m   7185\u001b[0m   \u001b[0me\u001b[0m\u001b[0;34m.\u001b[0m\u001b[0mmessage\u001b[0m \u001b[0;34m+=\u001b[0m \u001b[0;34m(\u001b[0m\u001b[0;34m\" name: \"\u001b[0m \u001b[0;34m+\u001b[0m \u001b[0mname\u001b[0m \u001b[0;32mif\u001b[0m \u001b[0mname\u001b[0m \u001b[0;32mis\u001b[0m \u001b[0;32mnot\u001b[0m \u001b[0;32mNone\u001b[0m \u001b[0;32melse\u001b[0m \u001b[0;34m\"\"\u001b[0m\u001b[0;34m)\u001b[0m\u001b[0;34m\u001b[0m\u001b[0;34m\u001b[0m\u001b[0m\n\u001b[0;32m-> 7186\u001b[0;31m   \u001b[0;32mraise\u001b[0m \u001b[0mcore\u001b[0m\u001b[0;34m.\u001b[0m\u001b[0m_status_to_exception\u001b[0m\u001b[0;34m(\u001b[0m\u001b[0me\u001b[0m\u001b[0;34m)\u001b[0m \u001b[0;32mfrom\u001b[0m \u001b[0;32mNone\u001b[0m  \u001b[0;31m# pylint: disable=protected-access\u001b[0m\u001b[0;34m\u001b[0m\u001b[0;34m\u001b[0m\u001b[0m\n\u001b[0m\u001b[1;32m   7187\u001b[0m \u001b[0;34m\u001b[0m\u001b[0m\n\u001b[1;32m   7188\u001b[0m \u001b[0;34m\u001b[0m\u001b[0m\n",
            "\u001b[0;31mInvalidArgumentError\u001b[0m: Input to reshape is a tensor with 1 values, but the requested shape has 0 [Op:Reshape]"
          ]
        }
      ]
    },
    {
      "cell_type": "code",
      "source": [
        "tf.shape(res)"
      ],
      "metadata": {
        "id": "edwrKvPsxJnW",
        "outputId": "a84078c0-11c0-4612-cf4c-6250ed16256f",
        "colab": {
          "base_uri": "https://localhost:8080/"
        }
      },
      "execution_count": null,
      "outputs": [
        {
          "output_type": "execute_result",
          "data": {
            "text/plain": [
              "<tf.Tensor: shape=(1,), dtype=int32, numpy=array([1], dtype=int32)>"
            ]
          },
          "metadata": {},
          "execution_count": 134
        }
      ]
    },
    {
      "cell_type": "code",
      "source": [
        "y_true = [[0., 1.,3,5], [0., 0.,3,5,6]]\n",
        "y_pred = [[1., 1.,3,2], [1., 0.,3,5,6]]\n",
        "# Using 'auto'/'sum_over_batch_size' reduction type.\n",
        "#mae = tf.keras.losses.MeanAbsoluteError()\n",
        "res = custom_loss(trainX[0], pred[0])\n",
        "res.shape"
      ],
      "metadata": {
        "id": "Qlwe3O5vQYvB",
        "outputId": "42f132b9-0a81-45b4-f796-582ea136ed8f",
        "colab": {
          "base_uri": "https://localhost:8080/"
        }
      },
      "execution_count": null,
      "outputs": [
        {
          "output_type": "execute_result",
          "data": {
            "text/plain": [
              "TensorShape([1])"
            ]
          },
          "metadata": {},
          "execution_count": 132
        }
      ]
    },
    {
      "cell_type": "code",
      "source": [
        "mse = tf.keras.losses.MeanSquaredError()\n",
        "res = custom_loss(trainX[0], pred[0])"
      ],
      "metadata": {
        "id": "xb0ZF6ONYZr_",
        "outputId": "bc0a2e5b-040c-4e82-d2d7-07299f3d7912",
        "colab": {
          "base_uri": "https://localhost:8080/"
        }
      },
      "execution_count": null,
      "outputs": [
        {
          "output_type": "execute_result",
          "data": {
            "text/plain": [
              "<bound method _EagerTensorBase.numpy of <tf.Tensor: shape=(1,), dtype=float64, numpy=array([0.00342158])>>"
            ]
          },
          "metadata": {},
          "execution_count": 94
        }
      ]
    },
    {
      "cell_type": "code",
      "source": [
        "tf.compat.v1.enable_eager_execution()\n",
        "\n",
        "star_RNN = time.time()\n",
        "model_RNN = Sequential()\n",
        "model_RNN.add(SimpleRNN(n_1, return_sequences=True,input_shape=[win_in,1] ))\n",
        "model_RNN.add(SimpleRNN(n_4))\n",
        "model_RNN.add(Dense(win_ou))\n",
        "model_RNN.compile(loss='mse', optimizer='adam',metrics=['mse'])\n",
        "history_RNN = model_RNN.fit(trainX, trainY, epochs=epochs, batch_size=batch_size, verbose=1,validation_split=0.7)"
      ],
      "metadata": {
        "id": "HvCx8Q5FgQ9Y",
        "outputId": "64a029cf-12fa-4dde-e3ba-80d3eb173f87",
        "colab": {
          "base_uri": "https://localhost:8080/",
          "height": 417
        }
      },
      "execution_count": 50,
      "outputs": [
        {
          "output_type": "stream",
          "name": "stdout",
          "text": [
            "Epoch 1/3\n",
            "3/3 [==============================] - 9s 2s/step - loss: 0.0710 - mse: 0.0710 - val_loss: 0.0668 - val_mse: 0.0668\n",
            "Epoch 2/3\n"
          ]
        },
        {
          "output_type": "error",
          "ename": "KeyboardInterrupt",
          "evalue": "ignored",
          "traceback": [
            "\u001b[0;31m---------------------------------------------------------------------------\u001b[0m",
            "\u001b[0;31mKeyboardInterrupt\u001b[0m                         Traceback (most recent call last)",
            "\u001b[0;32m<ipython-input-50-63a84c0ba81f>\u001b[0m in \u001b[0;36m<module>\u001b[0;34m\u001b[0m\n\u001b[1;32m      7\u001b[0m \u001b[0mmodel_RNN\u001b[0m\u001b[0;34m.\u001b[0m\u001b[0madd\u001b[0m\u001b[0;34m(\u001b[0m\u001b[0mDense\u001b[0m\u001b[0;34m(\u001b[0m\u001b[0mwin_ou\u001b[0m\u001b[0;34m)\u001b[0m\u001b[0;34m)\u001b[0m\u001b[0;34m\u001b[0m\u001b[0;34m\u001b[0m\u001b[0m\n\u001b[1;32m      8\u001b[0m \u001b[0mmodel_RNN\u001b[0m\u001b[0;34m.\u001b[0m\u001b[0mcompile\u001b[0m\u001b[0;34m(\u001b[0m\u001b[0mloss\u001b[0m\u001b[0;34m=\u001b[0m\u001b[0;34m'mse'\u001b[0m\u001b[0;34m,\u001b[0m \u001b[0moptimizer\u001b[0m\u001b[0;34m=\u001b[0m\u001b[0;34m'adam'\u001b[0m\u001b[0;34m,\u001b[0m\u001b[0mmetrics\u001b[0m\u001b[0;34m=\u001b[0m\u001b[0;34m[\u001b[0m\u001b[0;34m'mse'\u001b[0m\u001b[0;34m]\u001b[0m\u001b[0;34m)\u001b[0m\u001b[0;34m\u001b[0m\u001b[0;34m\u001b[0m\u001b[0m\n\u001b[0;32m----> 9\u001b[0;31m \u001b[0mhistory_RNN\u001b[0m \u001b[0;34m=\u001b[0m \u001b[0mmodel_RNN\u001b[0m\u001b[0;34m.\u001b[0m\u001b[0mfit\u001b[0m\u001b[0;34m(\u001b[0m\u001b[0mtrainX\u001b[0m\u001b[0;34m,\u001b[0m \u001b[0mtrainY\u001b[0m\u001b[0;34m,\u001b[0m \u001b[0mepochs\u001b[0m\u001b[0;34m=\u001b[0m\u001b[0mepochs\u001b[0m\u001b[0;34m,\u001b[0m \u001b[0mbatch_size\u001b[0m\u001b[0;34m=\u001b[0m\u001b[0mbatch_size\u001b[0m\u001b[0;34m,\u001b[0m \u001b[0mverbose\u001b[0m\u001b[0;34m=\u001b[0m\u001b[0;36m1\u001b[0m\u001b[0;34m,\u001b[0m\u001b[0mvalidation_split\u001b[0m\u001b[0;34m=\u001b[0m\u001b[0;36m0.7\u001b[0m\u001b[0;34m)\u001b[0m\u001b[0;34m\u001b[0m\u001b[0;34m\u001b[0m\u001b[0m\n\u001b[0m",
            "\u001b[0;32m/usr/local/lib/python3.7/dist-packages/keras/utils/traceback_utils.py\u001b[0m in \u001b[0;36merror_handler\u001b[0;34m(*args, **kwargs)\u001b[0m\n\u001b[1;32m     62\u001b[0m     \u001b[0mfiltered_tb\u001b[0m \u001b[0;34m=\u001b[0m \u001b[0;32mNone\u001b[0m\u001b[0;34m\u001b[0m\u001b[0;34m\u001b[0m\u001b[0m\n\u001b[1;32m     63\u001b[0m     \u001b[0;32mtry\u001b[0m\u001b[0;34m:\u001b[0m\u001b[0;34m\u001b[0m\u001b[0;34m\u001b[0m\u001b[0m\n\u001b[0;32m---> 64\u001b[0;31m       \u001b[0;32mreturn\u001b[0m \u001b[0mfn\u001b[0m\u001b[0;34m(\u001b[0m\u001b[0;34m*\u001b[0m\u001b[0margs\u001b[0m\u001b[0;34m,\u001b[0m \u001b[0;34m**\u001b[0m\u001b[0mkwargs\u001b[0m\u001b[0;34m)\u001b[0m\u001b[0;34m\u001b[0m\u001b[0;34m\u001b[0m\u001b[0m\n\u001b[0m\u001b[1;32m     65\u001b[0m     \u001b[0;32mexcept\u001b[0m \u001b[0mException\u001b[0m \u001b[0;32mas\u001b[0m \u001b[0me\u001b[0m\u001b[0;34m:\u001b[0m  \u001b[0;31m# pylint: disable=broad-except\u001b[0m\u001b[0;34m\u001b[0m\u001b[0;34m\u001b[0m\u001b[0m\n\u001b[1;32m     66\u001b[0m       \u001b[0mfiltered_tb\u001b[0m \u001b[0;34m=\u001b[0m \u001b[0m_process_traceback_frames\u001b[0m\u001b[0;34m(\u001b[0m\u001b[0me\u001b[0m\u001b[0;34m.\u001b[0m\u001b[0m__traceback__\u001b[0m\u001b[0;34m)\u001b[0m\u001b[0;34m\u001b[0m\u001b[0;34m\u001b[0m\u001b[0m\n",
            "\u001b[0;32m/usr/local/lib/python3.7/dist-packages/keras/engine/training.py\u001b[0m in \u001b[0;36mfit\u001b[0;34m(self, x, y, batch_size, epochs, verbose, callbacks, validation_split, validation_data, shuffle, class_weight, sample_weight, initial_epoch, steps_per_epoch, validation_steps, validation_batch_size, validation_freq, max_queue_size, workers, use_multiprocessing)\u001b[0m\n\u001b[1;32m   1382\u001b[0m                 _r=1):\n\u001b[1;32m   1383\u001b[0m               \u001b[0mcallbacks\u001b[0m\u001b[0;34m.\u001b[0m\u001b[0mon_train_batch_begin\u001b[0m\u001b[0;34m(\u001b[0m\u001b[0mstep\u001b[0m\u001b[0;34m)\u001b[0m\u001b[0;34m\u001b[0m\u001b[0;34m\u001b[0m\u001b[0m\n\u001b[0;32m-> 1384\u001b[0;31m               \u001b[0mtmp_logs\u001b[0m \u001b[0;34m=\u001b[0m \u001b[0mself\u001b[0m\u001b[0;34m.\u001b[0m\u001b[0mtrain_function\u001b[0m\u001b[0;34m(\u001b[0m\u001b[0miterator\u001b[0m\u001b[0;34m)\u001b[0m\u001b[0;34m\u001b[0m\u001b[0;34m\u001b[0m\u001b[0m\n\u001b[0m\u001b[1;32m   1385\u001b[0m               \u001b[0;32mif\u001b[0m \u001b[0mdata_handler\u001b[0m\u001b[0;34m.\u001b[0m\u001b[0mshould_sync\u001b[0m\u001b[0;34m:\u001b[0m\u001b[0;34m\u001b[0m\u001b[0;34m\u001b[0m\u001b[0m\n\u001b[1;32m   1386\u001b[0m                 \u001b[0mcontext\u001b[0m\u001b[0;34m.\u001b[0m\u001b[0masync_wait\u001b[0m\u001b[0;34m(\u001b[0m\u001b[0;34m)\u001b[0m\u001b[0;34m\u001b[0m\u001b[0;34m\u001b[0m\u001b[0m\n",
            "\u001b[0;32m/usr/local/lib/python3.7/dist-packages/tensorflow/python/util/traceback_utils.py\u001b[0m in \u001b[0;36merror_handler\u001b[0;34m(*args, **kwargs)\u001b[0m\n\u001b[1;32m    148\u001b[0m     \u001b[0mfiltered_tb\u001b[0m \u001b[0;34m=\u001b[0m \u001b[0;32mNone\u001b[0m\u001b[0;34m\u001b[0m\u001b[0;34m\u001b[0m\u001b[0m\n\u001b[1;32m    149\u001b[0m     \u001b[0;32mtry\u001b[0m\u001b[0;34m:\u001b[0m\u001b[0;34m\u001b[0m\u001b[0;34m\u001b[0m\u001b[0m\n\u001b[0;32m--> 150\u001b[0;31m       \u001b[0;32mreturn\u001b[0m \u001b[0mfn\u001b[0m\u001b[0;34m(\u001b[0m\u001b[0;34m*\u001b[0m\u001b[0margs\u001b[0m\u001b[0;34m,\u001b[0m \u001b[0;34m**\u001b[0m\u001b[0mkwargs\u001b[0m\u001b[0;34m)\u001b[0m\u001b[0;34m\u001b[0m\u001b[0;34m\u001b[0m\u001b[0m\n\u001b[0m\u001b[1;32m    151\u001b[0m     \u001b[0;32mexcept\u001b[0m \u001b[0mException\u001b[0m \u001b[0;32mas\u001b[0m \u001b[0me\u001b[0m\u001b[0;34m:\u001b[0m\u001b[0;34m\u001b[0m\u001b[0;34m\u001b[0m\u001b[0m\n\u001b[1;32m    152\u001b[0m       \u001b[0mfiltered_tb\u001b[0m \u001b[0;34m=\u001b[0m \u001b[0m_process_traceback_frames\u001b[0m\u001b[0;34m(\u001b[0m\u001b[0me\u001b[0m\u001b[0;34m.\u001b[0m\u001b[0m__traceback__\u001b[0m\u001b[0;34m)\u001b[0m\u001b[0;34m\u001b[0m\u001b[0;34m\u001b[0m\u001b[0m\n",
            "\u001b[0;32m/usr/local/lib/python3.7/dist-packages/tensorflow/python/eager/def_function.py\u001b[0m in \u001b[0;36m__call__\u001b[0;34m(self, *args, **kwds)\u001b[0m\n\u001b[1;32m    913\u001b[0m \u001b[0;34m\u001b[0m\u001b[0m\n\u001b[1;32m    914\u001b[0m       \u001b[0;32mwith\u001b[0m \u001b[0mOptionalXlaContext\u001b[0m\u001b[0;34m(\u001b[0m\u001b[0mself\u001b[0m\u001b[0;34m.\u001b[0m\u001b[0m_jit_compile\u001b[0m\u001b[0;34m)\u001b[0m\u001b[0;34m:\u001b[0m\u001b[0;34m\u001b[0m\u001b[0;34m\u001b[0m\u001b[0m\n\u001b[0;32m--> 915\u001b[0;31m         \u001b[0mresult\u001b[0m \u001b[0;34m=\u001b[0m \u001b[0mself\u001b[0m\u001b[0;34m.\u001b[0m\u001b[0m_call\u001b[0m\u001b[0;34m(\u001b[0m\u001b[0;34m*\u001b[0m\u001b[0margs\u001b[0m\u001b[0;34m,\u001b[0m \u001b[0;34m**\u001b[0m\u001b[0mkwds\u001b[0m\u001b[0;34m)\u001b[0m\u001b[0;34m\u001b[0m\u001b[0;34m\u001b[0m\u001b[0m\n\u001b[0m\u001b[1;32m    916\u001b[0m \u001b[0;34m\u001b[0m\u001b[0m\n\u001b[1;32m    917\u001b[0m       \u001b[0mnew_tracing_count\u001b[0m \u001b[0;34m=\u001b[0m \u001b[0mself\u001b[0m\u001b[0;34m.\u001b[0m\u001b[0mexperimental_get_tracing_count\u001b[0m\u001b[0;34m(\u001b[0m\u001b[0;34m)\u001b[0m\u001b[0;34m\u001b[0m\u001b[0;34m\u001b[0m\u001b[0m\n",
            "\u001b[0;32m/usr/local/lib/python3.7/dist-packages/tensorflow/python/eager/def_function.py\u001b[0m in \u001b[0;36m_call\u001b[0;34m(self, *args, **kwds)\u001b[0m\n\u001b[1;32m    945\u001b[0m       \u001b[0;31m# In this case we have created variables on the first call, so we run the\u001b[0m\u001b[0;34m\u001b[0m\u001b[0;34m\u001b[0m\u001b[0;34m\u001b[0m\u001b[0m\n\u001b[1;32m    946\u001b[0m       \u001b[0;31m# defunned version which is guaranteed to never create variables.\u001b[0m\u001b[0;34m\u001b[0m\u001b[0;34m\u001b[0m\u001b[0;34m\u001b[0m\u001b[0m\n\u001b[0;32m--> 947\u001b[0;31m       \u001b[0;32mreturn\u001b[0m \u001b[0mself\u001b[0m\u001b[0;34m.\u001b[0m\u001b[0m_stateless_fn\u001b[0m\u001b[0;34m(\u001b[0m\u001b[0;34m*\u001b[0m\u001b[0margs\u001b[0m\u001b[0;34m,\u001b[0m \u001b[0;34m**\u001b[0m\u001b[0mkwds\u001b[0m\u001b[0;34m)\u001b[0m  \u001b[0;31m# pylint: disable=not-callable\u001b[0m\u001b[0;34m\u001b[0m\u001b[0;34m\u001b[0m\u001b[0m\n\u001b[0m\u001b[1;32m    948\u001b[0m     \u001b[0;32melif\u001b[0m \u001b[0mself\u001b[0m\u001b[0;34m.\u001b[0m\u001b[0m_stateful_fn\u001b[0m \u001b[0;32mis\u001b[0m \u001b[0;32mnot\u001b[0m \u001b[0;32mNone\u001b[0m\u001b[0;34m:\u001b[0m\u001b[0;34m\u001b[0m\u001b[0;34m\u001b[0m\u001b[0m\n\u001b[1;32m    949\u001b[0m       \u001b[0;31m# Release the lock early so that multiple threads can perform the call\u001b[0m\u001b[0;34m\u001b[0m\u001b[0;34m\u001b[0m\u001b[0;34m\u001b[0m\u001b[0m\n",
            "\u001b[0;32m/usr/local/lib/python3.7/dist-packages/tensorflow/python/eager/function.py\u001b[0m in \u001b[0;36m__call__\u001b[0;34m(self, *args, **kwargs)\u001b[0m\n\u001b[1;32m   2955\u001b[0m        filtered_flat_args) = self._maybe_define_function(args, kwargs)\n\u001b[1;32m   2956\u001b[0m     return graph_function._call_flat(\n\u001b[0;32m-> 2957\u001b[0;31m         filtered_flat_args, captured_inputs=graph_function.captured_inputs)  # pylint: disable=protected-access\n\u001b[0m\u001b[1;32m   2958\u001b[0m \u001b[0;34m\u001b[0m\u001b[0m\n\u001b[1;32m   2959\u001b[0m   \u001b[0;34m@\u001b[0m\u001b[0mproperty\u001b[0m\u001b[0;34m\u001b[0m\u001b[0;34m\u001b[0m\u001b[0m\n",
            "\u001b[0;32m/usr/local/lib/python3.7/dist-packages/tensorflow/python/eager/function.py\u001b[0m in \u001b[0;36m_call_flat\u001b[0;34m(self, args, captured_inputs, cancellation_manager)\u001b[0m\n\u001b[1;32m   1852\u001b[0m       \u001b[0;31m# No tape is watching; skip to running the function.\u001b[0m\u001b[0;34m\u001b[0m\u001b[0;34m\u001b[0m\u001b[0;34m\u001b[0m\u001b[0m\n\u001b[1;32m   1853\u001b[0m       return self._build_call_outputs(self._inference_function.call(\n\u001b[0;32m-> 1854\u001b[0;31m           ctx, args, cancellation_manager=cancellation_manager))\n\u001b[0m\u001b[1;32m   1855\u001b[0m     forward_backward = self._select_forward_and_backward_functions(\n\u001b[1;32m   1856\u001b[0m         \u001b[0margs\u001b[0m\u001b[0;34m,\u001b[0m\u001b[0;34m\u001b[0m\u001b[0;34m\u001b[0m\u001b[0m\n",
            "\u001b[0;32m/usr/local/lib/python3.7/dist-packages/tensorflow/python/eager/function.py\u001b[0m in \u001b[0;36mcall\u001b[0;34m(self, ctx, args, cancellation_manager)\u001b[0m\n\u001b[1;32m    502\u001b[0m               \u001b[0minputs\u001b[0m\u001b[0;34m=\u001b[0m\u001b[0margs\u001b[0m\u001b[0;34m,\u001b[0m\u001b[0;34m\u001b[0m\u001b[0;34m\u001b[0m\u001b[0m\n\u001b[1;32m    503\u001b[0m               \u001b[0mattrs\u001b[0m\u001b[0;34m=\u001b[0m\u001b[0mattrs\u001b[0m\u001b[0;34m,\u001b[0m\u001b[0;34m\u001b[0m\u001b[0;34m\u001b[0m\u001b[0m\n\u001b[0;32m--> 504\u001b[0;31m               ctx=ctx)\n\u001b[0m\u001b[1;32m    505\u001b[0m         \u001b[0;32melse\u001b[0m\u001b[0;34m:\u001b[0m\u001b[0;34m\u001b[0m\u001b[0;34m\u001b[0m\u001b[0m\n\u001b[1;32m    506\u001b[0m           outputs = execute.execute_with_cancellation(\n",
            "\u001b[0;32m/usr/local/lib/python3.7/dist-packages/tensorflow/python/eager/execute.py\u001b[0m in \u001b[0;36mquick_execute\u001b[0;34m(op_name, num_outputs, inputs, attrs, ctx, name)\u001b[0m\n\u001b[1;32m     53\u001b[0m     \u001b[0mctx\u001b[0m\u001b[0;34m.\u001b[0m\u001b[0mensure_initialized\u001b[0m\u001b[0;34m(\u001b[0m\u001b[0;34m)\u001b[0m\u001b[0;34m\u001b[0m\u001b[0;34m\u001b[0m\u001b[0m\n\u001b[1;32m     54\u001b[0m     tensors = pywrap_tfe.TFE_Py_Execute(ctx._handle, device_name, op_name,\n\u001b[0;32m---> 55\u001b[0;31m                                         inputs, attrs, num_outputs)\n\u001b[0m\u001b[1;32m     56\u001b[0m   \u001b[0;32mexcept\u001b[0m \u001b[0mcore\u001b[0m\u001b[0;34m.\u001b[0m\u001b[0m_NotOkStatusException\u001b[0m \u001b[0;32mas\u001b[0m \u001b[0me\u001b[0m\u001b[0;34m:\u001b[0m\u001b[0;34m\u001b[0m\u001b[0;34m\u001b[0m\u001b[0m\n\u001b[1;32m     57\u001b[0m     \u001b[0;32mif\u001b[0m \u001b[0mname\u001b[0m \u001b[0;32mis\u001b[0m \u001b[0;32mnot\u001b[0m \u001b[0;32mNone\u001b[0m\u001b[0;34m:\u001b[0m\u001b[0;34m\u001b[0m\u001b[0;34m\u001b[0m\u001b[0m\n",
            "\u001b[0;31mKeyboardInterrupt\u001b[0m: "
          ]
        }
      ]
    },
    {
      "cell_type": "code",
      "source": [
        "pred = model_RNN.predict(trainX[0])"
      ],
      "metadata": {
        "id": "_ZQGbJW1enub",
        "outputId": "7d1faff4-9e7b-4aa9-e877-da8775e9cff0",
        "colab": {
          "base_uri": "https://localhost:8080/"
        }
      },
      "execution_count": null,
      "outputs": [
        {
          "output_type": "stream",
          "name": "stderr",
          "text": [
            "WARNING:tensorflow:Model was constructed with shape (None, 1024, 1) for input KerasTensor(type_spec=TensorSpec(shape=(None, 1024, 1), dtype=tf.float32, name='simple_rnn_input'), name='simple_rnn_input', description=\"created by layer 'simple_rnn_input'\"), but it was called on an input with incompatible shape (32, 1, 1).\n"
          ]
        }
      ]
    },
    {
      "cell_type": "code",
      "source": [
        "pred[0].shape"
      ],
      "metadata": {
        "id": "JyakQKHUnY0o",
        "outputId": "a46a9eb5-af92-4a1e-fd58-8f4c71d06297",
        "colab": {
          "base_uri": "https://localhost:8080/"
        }
      },
      "execution_count": null,
      "outputs": [
        {
          "output_type": "execute_result",
          "data": {
            "text/plain": [
              "(1024,)"
            ]
          },
          "metadata": {},
          "execution_count": 17
        }
      ]
    },
    {
      "cell_type": "code",
      "source": [
        "type(beta(pred[k]))"
      ],
      "metadata": {
        "id": "psiQsYNwESna",
        "outputId": "002b69bc-6e58-420d-fe8a-309544dbcbc0",
        "colab": {
          "base_uri": "https://localhost:8080/"
        }
      },
      "execution_count": null,
      "outputs": [
        {
          "output_type": "execute_result",
          "data": {
            "text/plain": [
              "numpy.float64"
            ]
          },
          "metadata": {},
          "execution_count": 26
        }
      ]
    },
    {
      "cell_type": "code",
      "source": [
        "k = 2\n",
        "plot_test(trainX[k],pred[k])"
      ],
      "metadata": {
        "id": "6avAw8AznfZj",
        "outputId": "67039e44-b82f-4780-e3ef-a0d4376007a6",
        "colab": {
          "base_uri": "https://localhost:8080/",
          "height": 265
        }
      },
      "execution_count": null,
      "outputs": [
        {
          "output_type": "display_data",
          "data": {
            "text/plain": [
              "<Figure size 432x288 with 1 Axes>"
            ],
            "image/png": "[encoded data removed]"
          },
          "metadata": {}
        }
      ]
    },
    {
      "cell_type": "code",
      "source": [],
      "metadata": {
        "id": "Ei_fMFhCnz1k"
      },
      "execution_count": null,
      "outputs": []
    }
  ]
}