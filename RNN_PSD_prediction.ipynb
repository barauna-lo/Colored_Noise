{
  "nbformat": 4,
  "nbformat_minor": 0,
  "metadata": {
    "colab": {
      "provenance": [],
      "collapsed_sections": [],
      "toc_visible": true,
      "authorship_tag": "ABX9TyMEs41Fs0rZ5lI4LiQNEURb",
      "include_colab_link": true
    },
    "kernelspec": {
      "name": "python3",
      "display_name": "Python 3"
    },
    "language_info": {
      "name": "python"
    }
  },
  "cells": [
    {
      "cell_type": "markdown",
      "metadata": {
        "id": "view-in-github",
        "colab_type": "text"
      },
      "source": [
        "<a href=\"https://colab.research.google.com/github/barauna-lo/Colored_Noise/blob/main/RNN_PSD_prediction.ipynb\" target=\"_parent\"><img src=\"https://colab.research.google.com/assets/colab-badge.svg\" alt=\"Open In Colab\"/></a>"
      ]
    },
    {
      "cell_type": "code",
      "execution_count": 1,
      "metadata": {
        "colab": {
          "base_uri": "https://localhost:8080/"
        },
        "id": "_gqPalciLgWK",
        "outputId": "280280fe-98a9-4e9d-d077-9c0c85e0a94f"
      },
      "outputs": [
        {
          "output_type": "stream",
          "name": "stdout",
          "text": [
            "Looking in indexes: https://pypi.org/simple, https://us-python.pkg.dev/colab-wheels/public/simple/\n",
            "Collecting colorednoise\n",
            "  Downloading colorednoise-2.1.0-py3-none-any.whl (4.5 kB)\n",
            "Requirement already satisfied: numpy>=1.17.0 in /usr/local/lib/python3.7/dist-packages (from colorednoise) (1.21.6)\n",
            "Installing collected packages: colorednoise\n",
            "Successfully installed colorednoise-2.1.0\n"
          ]
        }
      ],
      "source": [
        "!pip install colorednoise\n",
        "import colorednoise as cn\n",
        "import tensorflow as tf\n",
        "import numpy as np\n",
        "import matplotlib.pyplot as plt\n",
        "np.random.seed(42)\n",
        "tf.random.set_seed(42)\n",
        "import seaborn as sns\n",
        "sns.set_style('darkgrid')\n",
        "\n",
        "from keras import Sequential\n",
        "from keras.layers import Conv2D, Flatten, Dense, LSTM, GRU, RNN,SimpleRNN, InputLayer,Conv1D, add, Reshape, Flatten\n",
        "from sklearn.preprocessing import MinMaxScaler, MaxAbsScaler\n",
        "from sklearn.metrics import mean_squared_error\n",
        "from sklearn import preprocessing\n",
        "#from datetime import datetime # for put the time info in each plot          #https://stackoverflow.com/questions/415511/how-to-get-the-current-time-in-python\n",
        "import time as time"
      ]
    },
    {
      "cell_type": "markdown",
      "source": [
        "$$\n",
        "Ftt = \\sum a_i \\sin(2k\\pi)+ i b_i \\cos(2k\\pi)\\\\\n",
        "$$\n",
        "$$\n",
        "PSD = (a_i + b_i)(a_i-b_i)\\\\\n",
        "$$\n",
        "$$\n",
        "PSD = a^2 + b^2\\\\\n",
        "$$\n",
        "$$\n",
        "S_h = {\\sum PSD_i \\log(PSD_i) \\over \\log\\left(\\frac{1}{N}\\right)}\n",
        "$$\n",
        "\n",
        "were $b$ in the imaginarius parte"
      ],
      "metadata": {
        "id": "ccP2Tg-BZ8Ni"
      }
    },
    {
      "cell_type": "markdown",
      "source": [
        "# Functions"
      ],
      "metadata": {
        "id": "-1a6_v0savYM"
      }
    },
    {
      "cell_type": "code",
      "source": [
        "def entropyShannon(data,norm=True):\n",
        "  '''\n",
        "  Calculate the Shannon spectrum entropy for a given dataseta\n",
        "  '''\n",
        "  cdata = tf.cast(data,tf.complex128) #tf complex 128 format\n",
        "  cdata = tf.signal.fft(cdata) #Fast Fourrie Transformation\n",
        "  cdata = cdata*tf.math.conj(cdata) #PSD Calculation\n",
        "  cdata = cdata[:len(cdata)//2] #Take only haf\n",
        "  cdata = cdata/tf.math.reduce_sum(cdata) #Normalização???\n",
        "  sh = cdata*tf.math.log(cdata) # Calculate Shannon entropy p1\n",
        "  sh = tf.math.real(tf.math.reduce_sum(sh)) #Calculate Shannon entropy p2\n",
        "  if norm == True: #Normalize?\n",
        "    norm = tf.cast(tf.math.log(1.0/tf.cast(len(cdata),tf.float64) ),tf.float64)\n",
        "    return cdata, sh/norm\n",
        "  else:\n",
        "    return cdata, -sh\n",
        "\n",
        "\n",
        "def fftfreq(n, d=1.0):\n",
        "    \"\"\"\n",
        "    Return the Discrete Fourier Transform sample frequencies.\n",
        "    The returned float array `f` contains the frequency bin centers in cycles\n",
        "    per unit of the sample spacing (with zero at the start).  For instance, if\n",
        "    the sample spacing is in seconds, then the frequency unit is cycles/second.\n",
        "    Given a window length `n` and a sample spacing `d`::\n",
        "      f = [0, 1, ...,   n/2-1,     -n/2, ..., -1] / (d*n)   if n is even\n",
        "      f = [0, 1, ..., (n-1)/2, -(n-1)/2, ..., -1] / (d*n)   if n is odd\n",
        "    Parameters\n",
        "    ----------\n",
        "    n : int\n",
        "        Window length.\n",
        "    d : scalar, optional\n",
        "        Sample spacing (inverse of the sampling rate). Defaults to 1.\n",
        "    Returns\n",
        "    -------\n",
        "    f : ndarray\n",
        "        Array of length `n` containing the sample frequencies.\n",
        "    Examples\n",
        "    --------\n",
        "    >>> signal = np.array([-2, 8, 6, 4, 1, 0, 3, 5], dtype=float)\n",
        "    >>> fourier = np.fft.fft(signal)\n",
        "    >>> n = signal.size\n",
        "    >>> timestep = 0.1\n",
        "    >>> freq = np.fft.fftfreq(n, d=timestep)\n",
        "    >>> freq\n",
        "    array([ 0.  ,  1.25,  2.5 , ..., -3.75, -2.5 , -1.25])\n",
        "    \"\"\"\n",
        "    if not isinstance(n, integer_types):\n",
        "        raise ValueError(\"n should be an integer\")\n",
        "    val = 1.0 / (n * d)\n",
        "    results = empty(n, int)\n",
        "    N = (n-1)//2 + 1\n",
        "    p1 = arange(0, N, dtype=int)\n",
        "    results[:N] = p1\n",
        "    p2 = arange(-(n//2), 0, dtype=int)\n",
        "    results[N:] = p2\n",
        "    return results * val\n",
        "\n",
        "\n",
        "def beta(data):\n",
        "  '''\n",
        "  Calculate de the PSD loglog power law index\n",
        "  '''\n",
        "  psd = tf.cast(data,tf.complex128) #tf complex 128 format\n",
        "  psd = tf.signal.fft(psd) #FFT me da um vetor complexo\n",
        "  psd = psd*tf.math.conj(psd) #Complexo conjudado \n",
        "  #print(len(data))\n",
        "  freq = np.fft.fftfreq(1024) #mede as frequencias da tranformada de four\n",
        "  #freq = fftfreq(1024) #mede as frequencias da tranformada de four\n",
        "  n = len(data)//2 #ponto de conte. Nesse caso é pela metade\n",
        "  psd = psd[1:n] #Só quero metade dos dados, menos o 1 pq ele estava sendo inf\n",
        "  freq =  tf.convert_to_tensor(freq[1:n]) #converte para um tensor do tf\n",
        "  psd = tf.cast(tf.math.log(psd), tf.float64) #convert para log, e só pega o real \n",
        "  freq = tf.cast(tf.math.log(freq),tf.float64) #mesma coisa, só que frequencia\n",
        "  beta, _ =np.polyfit(np.array(freq),np.array(psd),deg=1) #ajuste linear\n",
        "  return -beta #partiu para o abraço\n",
        "\n",
        "def diffBeta(y_true, y_pred):\n",
        "  return (beta(y_true)-beta(y_pred))**2\n",
        "\n",
        "def create_dataset(dataset, window_in=10,window_ou=10,window_next=1):\n",
        "\t'''\n",
        "  This function will contain two vectors, dataX and dataY, the dataX will contain a set of numbers within the time series\n",
        "  and the dataY will be its posterior value\n",
        "  For example:\n",
        "  list = [0,1,2,3,4,5,6,7,8,9,10,11,12,13,14,15]\n",
        "  if the window_in is equal to 3 anf window_ou equato to 2 we will have\n",
        "  dataX[0] = [0,1,2] ; dataY[0] = [3,4]\n",
        "  dataX[1] = [1,2,3] ; dataY[1] = [4,5]\n",
        "  dataX[2] = [2,3,4] ; dataY[2] = [5,6]\n",
        "  dataX[3] = [3,4,5] ; dataY[3] = [6,7]\n",
        "  window_next will, shift the data ex for 4:\n",
        "  dataX[0] = [0,1,2] ; dataY[0] = [3,4]\n",
        "  dataX[1] = [3,4,5] ; dataY[1] = [6,7]\n",
        "  dataX[2] = [7,8,9] ; dataY[2] = [10,11]\n",
        "  '''\n",
        "\tdataset = dataset.reshape(len(dataset),1)\n",
        "\tdataX, dataY = [], []\n",
        "\tfor i in range(0,len(dataset)-window_in-window_ou+1,window_next):\n",
        "\t\tdataX.append(dataset[i:(i+window_in), 0])\n",
        "\t\tdataY.append(dataset[i + window_in:i + window_in + window_ou, 0])\n",
        "\treturn np.array(dataX), np.array(dataY)  \n",
        "\n",
        "def plot_test(x_,y_):\n",
        "  empty = np.empty_like(x_)\n",
        "  empty[:] = np.nan\n",
        "  y2 = np.append(empty,y_)\n",
        "  plt.plot(x_)\n",
        "  plt.plot(y2)\n",
        "  #plt.show() "
      ],
      "metadata": {
        "id": "_Fjlz0ztMiRW"
      },
      "execution_count": 68,
      "outputs": []
    },
    {
      "cell_type": "markdown",
      "source": [
        "# Data Generation"
      ],
      "metadata": {
        "id": "4o1tUbI7dF2A"
      }
    },
    {
      "cell_type": "code",
      "source": [
        "#Monting Google Drive\n",
        "#https://medium.com/analyatics-vidhya/how-to-download-kaggle-datasets-into-google-colab-via-google-drive-dcb348d7af07\n",
        "from google.colab import drive\n",
        "drive.mount('/content/drive')\n",
        "#Importing and conifg the Kaggle Drive\n",
        "import os\n",
        "os.environ['KAGGLE_CONFIG_DIR'] = \"/content/drive/MyDrive/Kaggle\"\n",
        "# Acessing the folder\n",
        "%cd /content/drive/MyDrive/Kaggle/\n",
        "# Dowloading NASA data-set\n",
        "!kaggle datasets download -d luanorionbarana/synthetic-colored-noise\n",
        "#Unziping data-set\n",
        "!unzip \"synthetic-colored-noise.zip\" -d \"/content/\""
      ],
      "metadata": {
        "id": "JfbGI0uMo21b",
        "outputId": "7d2e239f-3d7d-452d-9d61-e52d565b7fca",
        "colab": {
          "base_uri": "https://localhost:8080/"
        }
      },
      "execution_count": 3,
      "outputs": [
        {
          "output_type": "stream",
          "name": "stdout",
          "text": [
            "Mounted at /content/drive\n",
            "/content/drive/MyDrive/Kaggle\n",
            "synthetic-colored-noise.zip: Skipping, found more recently modified local copy (use --force to force download)\n",
            "Archive:  synthetic-colored-noise.zip\n",
            "  inflating: /content/color.csv      \n",
            "  inflating: /content/color.plk      \n",
            "  inflating: /content/color_4series.plk  \n"
          ]
        }
      ]
    },
    {
      "cell_type": "code",
      "source": [
        "# #Retorning to Sample folder! NOT NECESSERY\n",
        "%cd ..\n",
        "%cd ..\n",
        "%cd .."
      ],
      "metadata": {
        "id": "aYHv4oPVpsbB",
        "outputId": "956d0dc0-fc78-4b75-f668-dbecd143380c",
        "colab": {
          "base_uri": "https://localhost:8080/"
        }
      },
      "execution_count": 4,
      "outputs": [
        {
          "output_type": "stream",
          "name": "stdout",
          "text": [
            "/content/drive/MyDrive\n",
            "/content/drive\n",
            "/content\n"
          ]
        }
      ]
    },
    {
      "cell_type": "code",
      "source": [
        "import pandas as pd \n",
        "df = pd.read_pickle('color_4series.plk')"
      ],
      "metadata": {
        "id": "U0FmkEkCp0qh"
      },
      "execution_count": 5,
      "outputs": []
    },
    {
      "cell_type": "code",
      "source": [
        "serie_index = 0  #white Noise\n",
        "#serie_index = 4 #pink noise\n",
        "#serie_index =  9#red Noise\n",
        "\n",
        "min_size , max_size = 0 , len(df.Series[0])\n",
        "\n",
        "dataframe = pd.DataFrame({\"Serie\":df['Series'][serie_index][min_size:max_size]})\n",
        "dataset = dataframe.values.astype('float32')"
      ],
      "metadata": {
        "id": "iFO661I_AGiP"
      },
      "execution_count": 6,
      "outputs": []
    },
    {
      "cell_type": "code",
      "source": [
        "bet = 0\n",
        "samples = 2**15\n",
        "win_in = 1024\n",
        "win_ou = 1024\n",
        "jump = 2**4\n",
        "\n",
        "dat = cn.powerlaw_psd_gaussian(bet, samples)\n",
        "\n",
        "trainX,trainY = create_dataset(dataset,win_in,win_ou,jump)\n"
      ],
      "metadata": {
        "id": "4f212gm1VYhY"
      },
      "execution_count": 7,
      "outputs": []
    },
    {
      "cell_type": "code",
      "source": [
        "trainX = trainX.reshape(trainX.shape[0],trainX.shape[1],1)\n",
        "#trainY = trainY.reshape(np.axi,trainY.shape[1],trainY.shape[0])"
      ],
      "metadata": {
        "id": "XPQX1aTgefb7"
      },
      "execution_count": 8,
      "outputs": []
    },
    {
      "cell_type": "code",
      "source": [
        "trainX.shape"
      ],
      "metadata": {
        "colab": {
          "base_uri": "https://localhost:8080/"
        },
        "id": "6gGDznkPfzjJ",
        "outputId": "e7440fd6-35b6-4cbb-d4cc-8d3921dc4167"
      },
      "execution_count": null,
      "outputs": [
        {
          "output_type": "execute_result",
          "data": {
            "text/plain": [
              "(1921, 1024, 1)"
            ]
          },
          "metadata": {},
          "execution_count": 10
        }
      ]
    },
    {
      "cell_type": "markdown",
      "source": [
        "# Model"
      ],
      "metadata": {
        "id": "EVFvoPZ-dDrZ"
      }
    },
    {
      "cell_type": "code",
      "source": [
        "#Paramenters \n",
        "epochs = 3\n",
        "batch_size = 256#len(trainX)# 256#\n",
        "model_code = 'test'#All_layers_Bacth256'\n",
        "n_1 = 64#10#int(look_back*100)\n",
        "n_2 = 64#int(look_back*100)\n",
        "n_3 = 64 #int(look_back*1e-1)\n",
        "n_4 = 64#10#int(look_back*1e-1)"
      ],
      "metadata": {
        "id": "1C1VLnmZdXRT"
      },
      "execution_count": 9,
      "outputs": []
    },
    {
      "cell_type": "code",
      "source": [
        "def beta3(data):\n",
        "  '''\n",
        "  Calculate de the PSD loglog power law index\n",
        "  '''\n",
        "  psd = tf.cast(data,tf.complex128) #tf complex 128 format\n",
        "  psd = tf.signal.fft(psd) #FFT me da um vetor complexo\n",
        "  psd = psd*tf.math.conj(psd) #Complexo conjudado \n",
        "  #print(len(data))\n",
        "  timestep = 0.1\n",
        "  freq = np.fft.fftfreq(len(data))#, d = timestep)\n",
        "  return freq"
      ],
      "metadata": {
        "id": "qnrk8bdPmrCz"
      },
      "execution_count": 113,
      "outputs": []
    },
    {
      "cell_type": "code",
      "source": [
        "signal = np.array([-2, 8, 6, 4, 1, 0, 3, 5], dtype=float)\n",
        "fourier = np.fft.fft(signal)\n",
        "n = signal.size\n",
        "timestep = 0.1\n",
        "freq = np.fft.fftfreq(n, d=timestep)\n",
        "print(signal)\n",
        "print(freq)"
      ],
      "metadata": {
        "id": "ZNO3oP04m1Xb",
        "outputId": "96658363-8448-4a54-f38d-35fbe14cad1d",
        "colab": {
          "base_uri": "https://localhost:8080/"
        }
      },
      "execution_count": 107,
      "outputs": [
        {
          "output_type": "stream",
          "name": "stdout",
          "text": [
            "[-2.  8.  6.  4.  1.  0.  3.  5.]\n",
            "[ 0.    1.25  2.5   3.75 -5.   -3.75 -2.5  -1.25]\n"
          ]
        }
      ]
    },
    {
      "cell_type": "code",
      "source": [
        "tf.signal.fft(signal)"
      ],
      "metadata": {
        "id": "0t2APtPknw8D",
        "outputId": "f44c194e-10aa-42ee-a1b8-269602cbb313",
        "colab": {
          "base_uri": "https://localhost:8080/"
        }
      },
      "execution_count": 114,
      "outputs": [
        {
          "output_type": "execute_result",
          "data": {
            "text/plain": [
              "<tf.Tensor: shape=(8,), dtype=complex64, numpy=\n",
              "array([ 25.       +0.j       ,   3.3639607-7.9497476j,\n",
              "       -10.       +1.j       ,  -9.36396  -1.9497476j,\n",
              "        -9.       +0.j       ,  -9.36396  +1.9497476j,\n",
              "       -10.       -1.j       ,   3.3639607+7.9497476j], dtype=complex64)>"
            ]
          },
          "metadata": {},
          "execution_count": 114
        }
      ]
    },
    {
      "cell_type": "code",
      "source": [
        "beta3(signal)"
      ],
      "metadata": {
        "id": "bANpOBrQnjBn",
        "outputId": "03976366-36eb-4d57-c108-8efc3c94dc06",
        "colab": {
          "base_uri": "https://localhost:8080/"
        }
      },
      "execution_count": 112,
      "outputs": [
        {
          "output_type": "execute_result",
          "data": {
            "text/plain": [
              "array([ 0.  ,  1.25,  2.5 ,  3.75, -5.  , -3.75, -2.5 , -1.25])"
            ]
          },
          "metadata": {},
          "execution_count": 112
        }
      ]
    },
    {
      "cell_type": "code",
      "source": [
        "\n",
        "beta3(signal)"
      ],
      "metadata": {
        "id": "2Rukd0_ymu3H",
        "outputId": "7d1cc424-5a74-4ff1-9724-02df4cbb06fe",
        "colab": {
          "base_uri": "https://localhost:8080/"
        }
      },
      "execution_count": 110,
      "outputs": [
        {
          "output_type": "execute_result",
          "data": {
            "text/plain": [
              "array([ 0.   ,  0.125,  0.25 ,  0.375, -0.5  , -0.375, -0.25 , -0.125])"
            ]
          },
          "metadata": {},
          "execution_count": 110
        }
      ]
    },
    {
      "cell_type": "code",
      "source": [
        "#https://cnvrg.io/keras-custom-loss-functions/\n",
        "import keras\n",
        "import numpy as np\n",
        "from tensorflow.python.ops import math_ops\n",
        "\n",
        "def custom_loss(y_true, y_pred):\n",
        "  # def beta2(data):\n",
        "  #   '''\n",
        "  #   Calculate de the PSD loglog power law index\n",
        "  #   '''\n",
        "  #   psd = tf.cast(data,tf.complex128) #tf complex 128 format\n",
        "  #   psd = tf.signal.fft(psd) #FFT me da um vetor complexo\n",
        "  #   psd = psd*tf.math.conj(psd) #Complexo conjudado \n",
        "  #   #print(len(data))\n",
        "  #   freq = np.fft.fftfreq(1024) #mede as frequencias da tranformada de four\n",
        "  #   #freq = fftfreq(1024) #mede as frequencias da tranformada de four\n",
        "  #   n = len(data)//2 #ponto de conte. Nesse caso é pela metade\n",
        "  #   psd = psd[1:n] #Só quero metade dos dados, menos o 1 pq ele estava sendo inf\n",
        "  #   freq =  tf.convert_to_tensor(freq[1:n]) #converte para um tensor do tf\n",
        "  #   psd = tf.cast(tf.math.log(psd), tf.float64) #convert para log, e só pega o real \n",
        "  #   freq = tf.cast(tf.math.log(freq),tf.float64) #mesma coisa, só que frequencia\n",
        "  #   beta, _ =np.polyfit(np.array(freq),np.array(psd),deg=1) #ajuste linear\n",
        "  #   beta = -beta #partiu para o abraço\n",
        " diff = math_ops.squared_difference(beta(y_pred), beta(y_true))  #squared difference\n",
        " #loss = K.mean(diff, axis=-1) #mean over last dimension\n",
        " return diff"
      ],
      "metadata": {
        "id": "ofDTpyNpRSm3"
      },
      "execution_count": 123,
      "outputs": []
    },
    {
      "cell_type": "code",
      "source": [
        "teste = tf.reshape(res,0)"
      ],
      "metadata": {
        "id": "k_da8DUmvNpE",
        "outputId": "210b7fff-3ec1-4a28-c7e2-55c5b84f6a24",
        "colab": {
          "base_uri": "https://localhost:8080/",
          "height": 312
        }
      },
      "execution_count": 133,
      "outputs": [
        {
          "output_type": "error",
          "ename": "InvalidArgumentError",
          "evalue": "ignored",
          "traceback": [
            "\u001b[0;31m---------------------------------------------------------------------------\u001b[0m",
            "\u001b[0;31mInvalidArgumentError\u001b[0m                      Traceback (most recent call last)",
            "\u001b[0;32m<ipython-input-133-70439883362e>\u001b[0m in \u001b[0;36m<module>\u001b[0;34m\u001b[0m\n\u001b[0;32m----> 1\u001b[0;31m \u001b[0mteste\u001b[0m \u001b[0;34m=\u001b[0m \u001b[0mtf\u001b[0m\u001b[0;34m.\u001b[0m\u001b[0mreshape\u001b[0m\u001b[0;34m(\u001b[0m\u001b[0mres\u001b[0m\u001b[0;34m,\u001b[0m\u001b[0;36m0\u001b[0m\u001b[0;34m)\u001b[0m\u001b[0;34m\u001b[0m\u001b[0;34m\u001b[0m\u001b[0m\n\u001b[0m",
            "\u001b[0;32m/usr/local/lib/python3.7/dist-packages/tensorflow/python/util/traceback_utils.py\u001b[0m in \u001b[0;36merror_handler\u001b[0;34m(*args, **kwargs)\u001b[0m\n\u001b[1;32m    151\u001b[0m     \u001b[0;32mexcept\u001b[0m \u001b[0mException\u001b[0m \u001b[0;32mas\u001b[0m \u001b[0me\u001b[0m\u001b[0;34m:\u001b[0m\u001b[0;34m\u001b[0m\u001b[0;34m\u001b[0m\u001b[0m\n\u001b[1;32m    152\u001b[0m       \u001b[0mfiltered_tb\u001b[0m \u001b[0;34m=\u001b[0m \u001b[0m_process_traceback_frames\u001b[0m\u001b[0;34m(\u001b[0m\u001b[0me\u001b[0m\u001b[0;34m.\u001b[0m\u001b[0m__traceback__\u001b[0m\u001b[0;34m)\u001b[0m\u001b[0;34m\u001b[0m\u001b[0;34m\u001b[0m\u001b[0m\n\u001b[0;32m--> 153\u001b[0;31m       \u001b[0;32mraise\u001b[0m \u001b[0me\u001b[0m\u001b[0;34m.\u001b[0m\u001b[0mwith_traceback\u001b[0m\u001b[0;34m(\u001b[0m\u001b[0mfiltered_tb\u001b[0m\u001b[0;34m)\u001b[0m \u001b[0;32mfrom\u001b[0m \u001b[0;32mNone\u001b[0m\u001b[0;34m\u001b[0m\u001b[0;34m\u001b[0m\u001b[0m\n\u001b[0m\u001b[1;32m    154\u001b[0m     \u001b[0;32mfinally\u001b[0m\u001b[0;34m:\u001b[0m\u001b[0;34m\u001b[0m\u001b[0;34m\u001b[0m\u001b[0m\n\u001b[1;32m    155\u001b[0m       \u001b[0;32mdel\u001b[0m \u001b[0mfiltered_tb\u001b[0m\u001b[0;34m\u001b[0m\u001b[0;34m\u001b[0m\u001b[0m\n",
            "\u001b[0;32m/usr/local/lib/python3.7/dist-packages/tensorflow/python/framework/ops.py\u001b[0m in \u001b[0;36mraise_from_not_ok_status\u001b[0;34m(e, name)\u001b[0m\n\u001b[1;32m   7184\u001b[0m \u001b[0;32mdef\u001b[0m \u001b[0mraise_from_not_ok_status\u001b[0m\u001b[0;34m(\u001b[0m\u001b[0me\u001b[0m\u001b[0;34m,\u001b[0m \u001b[0mname\u001b[0m\u001b[0;34m)\u001b[0m\u001b[0;34m:\u001b[0m\u001b[0;34m\u001b[0m\u001b[0;34m\u001b[0m\u001b[0m\n\u001b[1;32m   7185\u001b[0m   \u001b[0me\u001b[0m\u001b[0;34m.\u001b[0m\u001b[0mmessage\u001b[0m \u001b[0;34m+=\u001b[0m \u001b[0;34m(\u001b[0m\u001b[0;34m\" name: \"\u001b[0m \u001b[0;34m+\u001b[0m \u001b[0mname\u001b[0m \u001b[0;32mif\u001b[0m \u001b[0mname\u001b[0m \u001b[0;32mis\u001b[0m \u001b[0;32mnot\u001b[0m \u001b[0;32mNone\u001b[0m \u001b[0;32melse\u001b[0m \u001b[0;34m\"\"\u001b[0m\u001b[0;34m)\u001b[0m\u001b[0;34m\u001b[0m\u001b[0;34m\u001b[0m\u001b[0m\n\u001b[0;32m-> 7186\u001b[0;31m   \u001b[0;32mraise\u001b[0m \u001b[0mcore\u001b[0m\u001b[0;34m.\u001b[0m\u001b[0m_status_to_exception\u001b[0m\u001b[0;34m(\u001b[0m\u001b[0me\u001b[0m\u001b[0;34m)\u001b[0m \u001b[0;32mfrom\u001b[0m \u001b[0;32mNone\u001b[0m  \u001b[0;31m# pylint: disable=protected-access\u001b[0m\u001b[0;34m\u001b[0m\u001b[0;34m\u001b[0m\u001b[0m\n\u001b[0m\u001b[1;32m   7187\u001b[0m \u001b[0;34m\u001b[0m\u001b[0m\n\u001b[1;32m   7188\u001b[0m \u001b[0;34m\u001b[0m\u001b[0m\n",
            "\u001b[0;31mInvalidArgumentError\u001b[0m: Input to reshape is a tensor with 1 values, but the requested shape has 0 [Op:Reshape]"
          ]
        }
      ]
    },
    {
      "cell_type": "code",
      "source": [
        "tf.shape(res)"
      ],
      "metadata": {
        "id": "edwrKvPsxJnW",
        "outputId": "a84078c0-11c0-4612-cf4c-6250ed16256f",
        "colab": {
          "base_uri": "https://localhost:8080/"
        }
      },
      "execution_count": 134,
      "outputs": [
        {
          "output_type": "execute_result",
          "data": {
            "text/plain": [
              "<tf.Tensor: shape=(1,), dtype=int32, numpy=array([1], dtype=int32)>"
            ]
          },
          "metadata": {},
          "execution_count": 134
        }
      ]
    },
    {
      "cell_type": "code",
      "source": [
        "y_true = [[0., 1.,3,5], [0., 0.,3,5,6]]\n",
        "y_pred = [[1., 1.,3,2], [1., 0.,3,5,6]]\n",
        "# Using 'auto'/'sum_over_batch_size' reduction type.\n",
        "#mae = tf.keras.losses.MeanAbsoluteError()\n",
        "res = custom_loss(trainX[0], pred[0])\n",
        "res.shape"
      ],
      "metadata": {
        "id": "Qlwe3O5vQYvB",
        "outputId": "42f132b9-0a81-45b4-f796-582ea136ed8f",
        "colab": {
          "base_uri": "https://localhost:8080/"
        }
      },
      "execution_count": 132,
      "outputs": [
        {
          "output_type": "execute_result",
          "data": {
            "text/plain": [
              "TensorShape([1])"
            ]
          },
          "metadata": {},
          "execution_count": 132
        }
      ]
    },
    {
      "cell_type": "code",
      "source": [
        "mse = tf.keras.losses.MeanSquaredError()\n",
        "res = custom_loss(trainX[0], pred[0])"
      ],
      "metadata": {
        "id": "xb0ZF6ONYZr_",
        "outputId": "bc0a2e5b-040c-4e82-d2d7-07299f3d7912",
        "colab": {
          "base_uri": "https://localhost:8080/"
        }
      },
      "execution_count": 94,
      "outputs": [
        {
          "output_type": "execute_result",
          "data": {
            "text/plain": [
              "<bound method _EagerTensorBase.numpy of <tf.Tensor: shape=(1,), dtype=float64, numpy=array([0.00342158])>>"
            ]
          },
          "metadata": {},
          "execution_count": 94
        }
      ]
    },
    {
      "cell_type": "code",
      "source": [],
      "metadata": {
        "id": "qiEj2lQPgybJ",
        "outputId": "81feaed7-277e-43c0-d918-8eb8c250385b",
        "colab": {
          "base_uri": "https://localhost:8080/"
        }
      },
      "execution_count": 80,
      "outputs": [
        {
          "output_type": "execute_result",
          "data": {
            "text/plain": [
              "1024"
            ]
          },
          "metadata": {},
          "execution_count": 80
        }
      ]
    },
    {
      "cell_type": "code",
      "source": [
        "tf.math.subtract([2,3],[2.1,2.9])"
      ],
      "metadata": {
        "id": "5VluRGZpE15X",
        "outputId": "4dc1b715-36ae-4de6-f467-926ca9efa1fb",
        "colab": {
          "base_uri": "https://localhost:8080/",
          "height": 330
        }
      },
      "execution_count": 51,
      "outputs": [
        {
          "output_type": "error",
          "ename": "TypeError",
          "evalue": "ignored",
          "traceback": [
            "\u001b[0;31m---------------------------------------------------------------------------\u001b[0m",
            "\u001b[0;31mTypeError\u001b[0m                                 Traceback (most recent call last)",
            "\u001b[0;32m<ipython-input-51-1e4af67ae478>\u001b[0m in \u001b[0;36m<module>\u001b[0;34m\u001b[0m\n\u001b[0;32m----> 1\u001b[0;31m \u001b[0mtf\u001b[0m\u001b[0;34m.\u001b[0m\u001b[0mmath\u001b[0m\u001b[0;34m.\u001b[0m\u001b[0msubtract\u001b[0m\u001b[0;34m(\u001b[0m\u001b[0;34m[\u001b[0m\u001b[0;36m2\u001b[0m\u001b[0;34m,\u001b[0m\u001b[0;36m3\u001b[0m\u001b[0;34m]\u001b[0m\u001b[0;34m,\u001b[0m\u001b[0;34m[\u001b[0m\u001b[0;36m2.1\u001b[0m\u001b[0;34m,\u001b[0m\u001b[0;36m2.9\u001b[0m\u001b[0;34m]\u001b[0m\u001b[0;34m)\u001b[0m\u001b[0;34m\u001b[0m\u001b[0;34m\u001b[0m\u001b[0m\n\u001b[0m",
            "\u001b[0;32m/usr/local/lib/python3.7/dist-packages/tensorflow/python/util/traceback_utils.py\u001b[0m in \u001b[0;36merror_handler\u001b[0;34m(*args, **kwargs)\u001b[0m\n\u001b[1;32m    151\u001b[0m     \u001b[0;32mexcept\u001b[0m \u001b[0mException\u001b[0m \u001b[0;32mas\u001b[0m \u001b[0me\u001b[0m\u001b[0;34m:\u001b[0m\u001b[0;34m\u001b[0m\u001b[0;34m\u001b[0m\u001b[0m\n\u001b[1;32m    152\u001b[0m       \u001b[0mfiltered_tb\u001b[0m \u001b[0;34m=\u001b[0m \u001b[0m_process_traceback_frames\u001b[0m\u001b[0;34m(\u001b[0m\u001b[0me\u001b[0m\u001b[0;34m.\u001b[0m\u001b[0m__traceback__\u001b[0m\u001b[0;34m)\u001b[0m\u001b[0;34m\u001b[0m\u001b[0;34m\u001b[0m\u001b[0m\n\u001b[0;32m--> 153\u001b[0;31m       \u001b[0;32mraise\u001b[0m \u001b[0me\u001b[0m\u001b[0;34m.\u001b[0m\u001b[0mwith_traceback\u001b[0m\u001b[0;34m(\u001b[0m\u001b[0mfiltered_tb\u001b[0m\u001b[0;34m)\u001b[0m \u001b[0;32mfrom\u001b[0m \u001b[0;32mNone\u001b[0m\u001b[0;34m\u001b[0m\u001b[0;34m\u001b[0m\u001b[0m\n\u001b[0m\u001b[1;32m    154\u001b[0m     \u001b[0;32mfinally\u001b[0m\u001b[0;34m:\u001b[0m\u001b[0;34m\u001b[0m\u001b[0;34m\u001b[0m\u001b[0m\n\u001b[1;32m    155\u001b[0m       \u001b[0;32mdel\u001b[0m \u001b[0mfiltered_tb\u001b[0m\u001b[0;34m\u001b[0m\u001b[0;34m\u001b[0m\u001b[0m\n",
            "\u001b[0;32m/usr/local/lib/python3.7/dist-packages/tensorflow/python/framework/constant_op.py\u001b[0m in \u001b[0;36mconvert_to_eager_tensor\u001b[0;34m(value, ctx, dtype)\u001b[0m\n\u001b[1;32m    100\u001b[0m       \u001b[0mdtype\u001b[0m \u001b[0;34m=\u001b[0m \u001b[0mdtypes\u001b[0m\u001b[0;34m.\u001b[0m\u001b[0mas_dtype\u001b[0m\u001b[0;34m(\u001b[0m\u001b[0mdtype\u001b[0m\u001b[0;34m)\u001b[0m\u001b[0;34m.\u001b[0m\u001b[0mas_datatype_enum\u001b[0m\u001b[0;34m\u001b[0m\u001b[0;34m\u001b[0m\u001b[0m\n\u001b[1;32m    101\u001b[0m   \u001b[0mctx\u001b[0m\u001b[0;34m.\u001b[0m\u001b[0mensure_initialized\u001b[0m\u001b[0;34m(\u001b[0m\u001b[0;34m)\u001b[0m\u001b[0;34m\u001b[0m\u001b[0;34m\u001b[0m\u001b[0m\n\u001b[0;32m--> 102\u001b[0;31m   \u001b[0;32mreturn\u001b[0m \u001b[0mops\u001b[0m\u001b[0;34m.\u001b[0m\u001b[0mEagerTensor\u001b[0m\u001b[0;34m(\u001b[0m\u001b[0mvalue\u001b[0m\u001b[0;34m,\u001b[0m \u001b[0mctx\u001b[0m\u001b[0;34m.\u001b[0m\u001b[0mdevice_name\u001b[0m\u001b[0;34m,\u001b[0m \u001b[0mdtype\u001b[0m\u001b[0;34m)\u001b[0m\u001b[0;34m\u001b[0m\u001b[0;34m\u001b[0m\u001b[0m\n\u001b[0m\u001b[1;32m    103\u001b[0m \u001b[0;34m\u001b[0m\u001b[0m\n\u001b[1;32m    104\u001b[0m \u001b[0;34m\u001b[0m\u001b[0m\n",
            "\u001b[0;31mTypeError\u001b[0m: Cannot convert [2.1, 2.9] to EagerTensor of dtype int32"
          ]
        }
      ]
    },
    {
      "cell_type": "code",
      "source": [
        "tf.compat.v1.enable_eager_execution()\n",
        "\n",
        "star_RNN = time.time()\n",
        "model_RNN = Sequential()\n",
        "model_RNN.add(SimpleRNN(n_1, return_sequences=True,input_shape=[win_in,1] ))\n",
        "model_RNN.add(SimpleRNN(n_4))\n",
        "model_RNN.add(Dense(win_ou))\n",
        "model_RNN.compile(loss=custom_loss, optimizer='adam',metrics=['mse'])\n",
        "history_RNN = model_RNN.fit(trainX, trainY, epochs=epochs, batch_size=batch_size, verbose=1,validation_split=0.7)"
      ],
      "metadata": {
        "id": "HvCx8Q5FgQ9Y",
        "outputId": "d2f45f36-b79f-440d-c21d-eca39ed009a6",
        "colab": {
          "base_uri": "https://localhost:8080/",
          "height": 521
        }
      },
      "execution_count": 93,
      "outputs": [
        {
          "output_type": "stream",
          "name": "stdout",
          "text": [
            "Epoch 1/3\n"
          ]
        },
        {
          "output_type": "error",
          "ename": "TypeError",
          "evalue": "ignored",
          "traceback": [
            "\u001b[0;31m---------------------------------------------------------------------------\u001b[0m",
            "\u001b[0;31mTypeError\u001b[0m                                 Traceback (most recent call last)",
            "\u001b[0;32m<ipython-input-93-ddc36c16c52a>\u001b[0m in \u001b[0;36m<module>\u001b[0;34m\u001b[0m\n\u001b[1;32m      7\u001b[0m \u001b[0mmodel_RNN\u001b[0m\u001b[0;34m.\u001b[0m\u001b[0madd\u001b[0m\u001b[0;34m(\u001b[0m\u001b[0mDense\u001b[0m\u001b[0;34m(\u001b[0m\u001b[0mwin_ou\u001b[0m\u001b[0;34m)\u001b[0m\u001b[0;34m)\u001b[0m\u001b[0;34m\u001b[0m\u001b[0;34m\u001b[0m\u001b[0m\n\u001b[1;32m      8\u001b[0m \u001b[0mmodel_RNN\u001b[0m\u001b[0;34m.\u001b[0m\u001b[0mcompile\u001b[0m\u001b[0;34m(\u001b[0m\u001b[0mloss\u001b[0m\u001b[0;34m=\u001b[0m\u001b[0mcustom_loss\u001b[0m\u001b[0;34m,\u001b[0m \u001b[0moptimizer\u001b[0m\u001b[0;34m=\u001b[0m\u001b[0;34m'adam'\u001b[0m\u001b[0;34m,\u001b[0m\u001b[0mmetrics\u001b[0m\u001b[0;34m=\u001b[0m\u001b[0;34m[\u001b[0m\u001b[0;34m'mse'\u001b[0m\u001b[0;34m]\u001b[0m\u001b[0;34m)\u001b[0m\u001b[0;34m\u001b[0m\u001b[0;34m\u001b[0m\u001b[0m\n\u001b[0;32m----> 9\u001b[0;31m \u001b[0mhistory_RNN\u001b[0m \u001b[0;34m=\u001b[0m \u001b[0mmodel_RNN\u001b[0m\u001b[0;34m.\u001b[0m\u001b[0mfit\u001b[0m\u001b[0;34m(\u001b[0m\u001b[0mtrainX\u001b[0m\u001b[0;34m,\u001b[0m \u001b[0mtrainY\u001b[0m\u001b[0;34m,\u001b[0m \u001b[0mepochs\u001b[0m\u001b[0;34m=\u001b[0m\u001b[0mepochs\u001b[0m\u001b[0;34m,\u001b[0m \u001b[0mbatch_size\u001b[0m\u001b[0;34m=\u001b[0m\u001b[0mbatch_size\u001b[0m\u001b[0;34m,\u001b[0m \u001b[0mverbose\u001b[0m\u001b[0;34m=\u001b[0m\u001b[0;36m1\u001b[0m\u001b[0;34m,\u001b[0m\u001b[0mvalidation_split\u001b[0m\u001b[0;34m=\u001b[0m\u001b[0;36m0.7\u001b[0m\u001b[0;34m)\u001b[0m\u001b[0;34m\u001b[0m\u001b[0;34m\u001b[0m\u001b[0m\n\u001b[0m",
            "\u001b[0;32m/usr/local/lib/python3.7/dist-packages/keras/utils/traceback_utils.py\u001b[0m in \u001b[0;36merror_handler\u001b[0;34m(*args, **kwargs)\u001b[0m\n\u001b[1;32m     65\u001b[0m     \u001b[0;32mexcept\u001b[0m \u001b[0mException\u001b[0m \u001b[0;32mas\u001b[0m \u001b[0me\u001b[0m\u001b[0;34m:\u001b[0m  \u001b[0;31m# pylint: disable=broad-except\u001b[0m\u001b[0;34m\u001b[0m\u001b[0;34m\u001b[0m\u001b[0m\n\u001b[1;32m     66\u001b[0m       \u001b[0mfiltered_tb\u001b[0m \u001b[0;34m=\u001b[0m \u001b[0m_process_traceback_frames\u001b[0m\u001b[0;34m(\u001b[0m\u001b[0me\u001b[0m\u001b[0;34m.\u001b[0m\u001b[0m__traceback__\u001b[0m\u001b[0;34m)\u001b[0m\u001b[0;34m\u001b[0m\u001b[0;34m\u001b[0m\u001b[0m\n\u001b[0;32m---> 67\u001b[0;31m       \u001b[0;32mraise\u001b[0m \u001b[0me\u001b[0m\u001b[0;34m.\u001b[0m\u001b[0mwith_traceback\u001b[0m\u001b[0;34m(\u001b[0m\u001b[0mfiltered_tb\u001b[0m\u001b[0;34m)\u001b[0m \u001b[0;32mfrom\u001b[0m \u001b[0;32mNone\u001b[0m\u001b[0;34m\u001b[0m\u001b[0;34m\u001b[0m\u001b[0m\n\u001b[0m\u001b[1;32m     68\u001b[0m     \u001b[0;32mfinally\u001b[0m\u001b[0;34m:\u001b[0m\u001b[0;34m\u001b[0m\u001b[0;34m\u001b[0m\u001b[0m\n\u001b[1;32m     69\u001b[0m       \u001b[0;32mdel\u001b[0m \u001b[0mfiltered_tb\u001b[0m\u001b[0;34m\u001b[0m\u001b[0;34m\u001b[0m\u001b[0m\n",
            "\u001b[0;32m/usr/local/lib/python3.7/dist-packages/tensorflow/python/framework/func_graph.py\u001b[0m in \u001b[0;36mautograph_handler\u001b[0;34m(*args, **kwargs)\u001b[0m\n\u001b[1;32m   1145\u001b[0m           \u001b[0;32mexcept\u001b[0m \u001b[0mException\u001b[0m \u001b[0;32mas\u001b[0m \u001b[0me\u001b[0m\u001b[0;34m:\u001b[0m  \u001b[0;31m# pylint:disable=broad-except\u001b[0m\u001b[0;34m\u001b[0m\u001b[0;34m\u001b[0m\u001b[0m\n\u001b[1;32m   1146\u001b[0m             \u001b[0;32mif\u001b[0m \u001b[0mhasattr\u001b[0m\u001b[0;34m(\u001b[0m\u001b[0me\u001b[0m\u001b[0;34m,\u001b[0m \u001b[0;34m\"ag_error_metadata\"\u001b[0m\u001b[0;34m)\u001b[0m\u001b[0;34m:\u001b[0m\u001b[0;34m\u001b[0m\u001b[0;34m\u001b[0m\u001b[0m\n\u001b[0;32m-> 1147\u001b[0;31m               \u001b[0;32mraise\u001b[0m \u001b[0me\u001b[0m\u001b[0;34m.\u001b[0m\u001b[0mag_error_metadata\u001b[0m\u001b[0;34m.\u001b[0m\u001b[0mto_exception\u001b[0m\u001b[0;34m(\u001b[0m\u001b[0me\u001b[0m\u001b[0;34m)\u001b[0m\u001b[0;34m\u001b[0m\u001b[0;34m\u001b[0m\u001b[0m\n\u001b[0m\u001b[1;32m   1148\u001b[0m             \u001b[0;32melse\u001b[0m\u001b[0;34m:\u001b[0m\u001b[0;34m\u001b[0m\u001b[0;34m\u001b[0m\u001b[0m\n\u001b[1;32m   1149\u001b[0m               \u001b[0;32mraise\u001b[0m\u001b[0;34m\u001b[0m\u001b[0;34m\u001b[0m\u001b[0m\n",
            "\u001b[0;31mTypeError\u001b[0m: in user code:\n\n    File \"/usr/local/lib/python3.7/dist-packages/keras/engine/training.py\", line 1021, in train_function  *\n        return step_function(self, iterator)\n    File \"<ipython-input-92-eb668b75a4fa>\", line 7, in custom_loss  *\n        diff = math_ops.squared_difference(beta(y_pred), beta(y_true))  #squared difference\n    File \"<ipython-input-68-6fb941c8d6cf>\", line 72, in beta  *\n        freq =  tf.convert_to_tensor(freq[1:n]) #converte para um tensor do tf\n\n    TypeError: slice indices must be integers or None or have an __index__ method\n"
          ]
        }
      ]
    },
    {
      "cell_type": "code",
      "source": [
        "pred = model_RNN.predict(trainX[0])"
      ],
      "metadata": {
        "id": "_ZQGbJW1enub",
        "outputId": "7d1faff4-9e7b-4aa9-e877-da8775e9cff0",
        "colab": {
          "base_uri": "https://localhost:8080/"
        }
      },
      "execution_count": 16,
      "outputs": [
        {
          "output_type": "stream",
          "name": "stderr",
          "text": [
            "WARNING:tensorflow:Model was constructed with shape (None, 1024, 1) for input KerasTensor(type_spec=TensorSpec(shape=(None, 1024, 1), dtype=tf.float32, name='simple_rnn_input'), name='simple_rnn_input', description=\"created by layer 'simple_rnn_input'\"), but it was called on an input with incompatible shape (32, 1, 1).\n"
          ]
        }
      ]
    },
    {
      "cell_type": "code",
      "source": [
        "pred[0].shape"
      ],
      "metadata": {
        "id": "JyakQKHUnY0o",
        "outputId": "a46a9eb5-af92-4a1e-fd58-8f4c71d06297",
        "colab": {
          "base_uri": "https://localhost:8080/"
        }
      },
      "execution_count": 17,
      "outputs": [
        {
          "output_type": "execute_result",
          "data": {
            "text/plain": [
              "(1024,)"
            ]
          },
          "metadata": {},
          "execution_count": 17
        }
      ]
    },
    {
      "cell_type": "code",
      "source": [
        "type(beta(pred[k]))"
      ],
      "metadata": {
        "id": "psiQsYNwESna",
        "outputId": "002b69bc-6e58-420d-fe8a-309544dbcbc0",
        "colab": {
          "base_uri": "https://localhost:8080/"
        }
      },
      "execution_count": 26,
      "outputs": [
        {
          "output_type": "execute_result",
          "data": {
            "text/plain": [
              "numpy.float64"
            ]
          },
          "metadata": {},
          "execution_count": 26
        }
      ]
    },
    {
      "cell_type": "code",
      "source": [
        "k = 2\n",
        "plot_test(trainX[k],pred[k])"
      ],
      "metadata": {
        "id": "6avAw8AznfZj",
        "outputId": "67039e44-b82f-4780-e3ef-a0d4376007a6",
        "colab": {
          "base_uri": "https://localhost:8080/",
          "height": 265
        }
      },
      "execution_count": 19,
      "outputs": [
        {
          "output_type": "display_data",
          "data": {
            "text/plain": [
              "<Figure size 432x288 with 1 Axes>"
            ],
            "image/png": "[encoded data removed]"
          },
          "metadata": {}
        }
      ]
    },
    {
      "cell_type": "code",
      "source": [],
      "metadata": {
        "id": "Ei_fMFhCnz1k"
      },
      "execution_count": null,
      "outputs": []
    }
  ]
}